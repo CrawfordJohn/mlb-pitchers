{
 "cells": [
  {
   "cell_type": "code",
   "execution_count": 45,
   "metadata": {},
   "outputs": [],
   "source": [
    "import pandas as pd\n",
    "import numpy as np"
   ]
  },
  {
   "cell_type": "code",
   "execution_count": 46,
   "metadata": {},
   "outputs": [],
   "source": [
    "data = pd.read_csv('data/pitcher_subset.csv')"
   ]
  },
  {
   "cell_type": "code",
   "execution_count": 47,
   "metadata": {},
   "outputs": [],
   "source": [
    "data['GameDate'] = pd.to_datetime(data['GameDate'])"
   ]
  },
  {
   "cell_type": "markdown",
   "metadata": {},
   "source": [
    "Sort values chronologically and by game"
   ]
  },
  {
   "cell_type": "code",
   "execution_count": 48,
   "metadata": {},
   "outputs": [],
   "source": [
    "data = data.sort_values(['GameDate', 'gameid', 'ab', 'pitchnum']).reset_index(drop=True)"
   ]
  },
  {
   "cell_type": "code",
   "execution_count": 49,
   "metadata": {},
   "outputs": [
    {
     "name": "stdout",
     "output_type": "stream",
     "text": [
      "<class 'pandas.core.frame.DataFrame'>\n",
      "RangeIndex: 148535 entries, 0 to 148534\n",
      "Data columns (total 37 columns):\n",
      " #   Column            Non-Null Count   Dtype         \n",
      "---  ------            --------------   -----         \n",
      " 0   gameid            148535 non-null  object        \n",
      " 1   GameDate          148535 non-null  datetime64[ns]\n",
      " 2   ab                148535 non-null  int64         \n",
      " 3   pitchnum          148535 non-null  int64         \n",
      " 4   inning            148535 non-null  int64         \n",
      " 5   teambat           148535 non-null  int64         \n",
      " 6   balls             148535 non-null  int64         \n",
      " 7   strikes           148535 non-null  int64         \n",
      " 8   outs              148535 non-null  int64         \n",
      " 9   pitcher           148535 non-null  object        \n",
      " 10  pitcherthrows     148535 non-null  object        \n",
      " 11  batter            148535 non-null  object        \n",
      " 12  batterside        148535 non-null  object        \n",
      " 13  pitchresult       148535 non-null  object        \n",
      " 14  pitchresult_desc  148535 non-null  object        \n",
      " 15  eventtype         148535 non-null  object        \n",
      " 16  pitchname         148535 non-null  object        \n",
      " 17  pitchname_desc    148535 non-null  object        \n",
      " 18  spinrate          148311 non-null  float64       \n",
      " 19  relspeed          148535 non-null  float64       \n",
      " 20  horzbreak         148535 non-null  float64       \n",
      " 21  inducedvertbreak  148535 non-null  float64       \n",
      " 22  platelocside      148535 non-null  float64       \n",
      " 23  platelocheight    148535 non-null  float64       \n",
      " 24  hometeam_id       148535 non-null  int64         \n",
      " 25  Home              148535 non-null  object        \n",
      " 26  awayteam_id       148535 non-null  int64         \n",
      " 27  Visitor           148535 non-null  object        \n",
      " 28  venue_id          148535 non-null  int64         \n",
      " 29  venue_name        148535 non-null  object        \n",
      " 30  season            148535 non-null  int64         \n",
      " 31  pitch_type        148535 non-null  object        \n",
      " 32  visscore          148357 non-null  float64       \n",
      " 33  homscore          148357 non-null  float64       \n",
      " 34  r1bool            148535 non-null  int64         \n",
      " 35  r2bool            148535 non-null  int64         \n",
      " 36  r3bool            148535 non-null  int64         \n",
      "dtypes: datetime64[ns](1), float64(8), int64(14), object(14)\n",
      "memory usage: 41.9+ MB\n"
     ]
    }
   ],
   "source": [
    "data.info()"
   ]
  },
  {
   "cell_type": "markdown",
   "metadata": {},
   "source": [
    "Remove unnecessary columns (can easily be added back if needed)"
   ]
  },
  {
   "cell_type": "code",
   "execution_count": 50,
   "metadata": {},
   "outputs": [],
   "source": [
    "data = data.drop(['spinrate', 'relspeed', 'horzbreak', 'inducedvertbreak', 'platelocside', 'platelocheight', 'season'], axis= 1 )"
   ]
  },
  {
   "cell_type": "markdown",
   "metadata": {},
   "source": [
    "Check for NA values"
   ]
  },
  {
   "cell_type": "code",
   "execution_count": 51,
   "metadata": {},
   "outputs": [
    {
     "data": {
      "text/plain": [
       "gameid                0\n",
       "GameDate              0\n",
       "ab                    0\n",
       "pitchnum              0\n",
       "inning                0\n",
       "teambat               0\n",
       "balls                 0\n",
       "strikes               0\n",
       "outs                  0\n",
       "pitcher               0\n",
       "pitcherthrows         0\n",
       "batter                0\n",
       "batterside            0\n",
       "pitchresult           0\n",
       "pitchresult_desc      0\n",
       "eventtype             0\n",
       "pitchname             0\n",
       "pitchname_desc        0\n",
       "hometeam_id           0\n",
       "Home                  0\n",
       "awayteam_id           0\n",
       "Visitor               0\n",
       "venue_id              0\n",
       "venue_name            0\n",
       "pitch_type            0\n",
       "visscore            178\n",
       "homscore            178\n",
       "r1bool                0\n",
       "r2bool                0\n",
       "r3bool                0\n",
       "dtype: int64"
      ]
     },
     "execution_count": 51,
     "metadata": {},
     "output_type": "execute_result"
    }
   ],
   "source": [
    "data.isna().sum()"
   ]
  },
  {
   "cell_type": "markdown",
   "metadata": {},
   "source": [
    "Only na values in visscore and homscore (and they occur at same time)"
   ]
  },
  {
   "cell_type": "code",
   "execution_count": 52,
   "metadata": {},
   "outputs": [],
   "source": [
    "gameid_counts = data['gameid'].value_counts().reset_index()\n",
    "na_gameid_counts = data[data['visscore'].isna()]['gameid'].value_counts().reset_index()\n",
    "compare = pd.merge(na_gameid_counts, gameid_counts, on='gameid', how='left')\n",
    "compare['values-not-missing'] = compare['count_y'] - compare['count_x']"
   ]
  },
  {
   "cell_type": "code",
   "execution_count": 53,
   "metadata": {},
   "outputs": [
    {
     "data": {
      "text/html": [
       "<div>\n",
       "<style scoped>\n",
       "    .dataframe tbody tr th:only-of-type {\n",
       "        vertical-align: middle;\n",
       "    }\n",
       "\n",
       "    .dataframe tbody tr th {\n",
       "        vertical-align: top;\n",
       "    }\n",
       "\n",
       "    .dataframe thead th {\n",
       "        text-align: right;\n",
       "    }\n",
       "</style>\n",
       "<table border=\"1\" class=\"dataframe\">\n",
       "  <thead>\n",
       "    <tr style=\"text-align: right;\">\n",
       "      <th></th>\n",
       "      <th>gameid</th>\n",
       "      <th>count_x</th>\n",
       "      <th>count_y</th>\n",
       "      <th>values-not-missing</th>\n",
       "    </tr>\n",
       "  </thead>\n",
       "  <tbody>\n",
       "    <tr>\n",
       "      <th>0</th>\n",
       "      <td>2021/05/23/oakmlb-anamlb-1</td>\n",
       "      <td>13</td>\n",
       "      <td>13</td>\n",
       "      <td>0</td>\n",
       "    </tr>\n",
       "    <tr>\n",
       "      <th>2</th>\n",
       "      <td>2021/06/26/arimlb-sdnmlb-1</td>\n",
       "      <td>7</td>\n",
       "      <td>13</td>\n",
       "      <td>6</td>\n",
       "    </tr>\n",
       "    <tr>\n",
       "      <th>13</th>\n",
       "      <td>2021/06/26/oakmlb-sfnmlb-1</td>\n",
       "      <td>4</td>\n",
       "      <td>12</td>\n",
       "      <td>8</td>\n",
       "    </tr>\n",
       "    <tr>\n",
       "      <th>25</th>\n",
       "      <td>2021/06/04/wasmlb-phimlb-1</td>\n",
       "      <td>3</td>\n",
       "      <td>13</td>\n",
       "      <td>10</td>\n",
       "    </tr>\n",
       "    <tr>\n",
       "      <th>17</th>\n",
       "      <td>2023/09/09/sdnmlb-houmlb-1</td>\n",
       "      <td>4</td>\n",
       "      <td>14</td>\n",
       "      <td>10</td>\n",
       "    </tr>\n",
       "    <tr>\n",
       "      <th>23</th>\n",
       "      <td>2021/07/06/detmlb-texmlb-1</td>\n",
       "      <td>3</td>\n",
       "      <td>15</td>\n",
       "      <td>12</td>\n",
       "    </tr>\n",
       "    <tr>\n",
       "      <th>16</th>\n",
       "      <td>2021/07/06/bosmlb-anamlb-1</td>\n",
       "      <td>4</td>\n",
       "      <td>18</td>\n",
       "      <td>14</td>\n",
       "    </tr>\n",
       "    <tr>\n",
       "      <th>10</th>\n",
       "      <td>2022/06/26/houmlb-nyamlb-1</td>\n",
       "      <td>4</td>\n",
       "      <td>18</td>\n",
       "      <td>14</td>\n",
       "    </tr>\n",
       "    <tr>\n",
       "      <th>29</th>\n",
       "      <td>2023/06/21/oakmlb-clemlb-1</td>\n",
       "      <td>2</td>\n",
       "      <td>17</td>\n",
       "      <td>15</td>\n",
       "    </tr>\n",
       "    <tr>\n",
       "      <th>58</th>\n",
       "      <td>2021/04/07/milmlb-chnmlb-1</td>\n",
       "      <td>1</td>\n",
       "      <td>17</td>\n",
       "      <td>16</td>\n",
       "    </tr>\n",
       "  </tbody>\n",
       "</table>\n",
       "</div>"
      ],
      "text/plain": [
       "                        gameid  count_x  count_y  values-not-missing\n",
       "0   2021/05/23/oakmlb-anamlb-1       13       13                   0\n",
       "2   2021/06/26/arimlb-sdnmlb-1        7       13                   6\n",
       "13  2021/06/26/oakmlb-sfnmlb-1        4       12                   8\n",
       "25  2021/06/04/wasmlb-phimlb-1        3       13                  10\n",
       "17  2023/09/09/sdnmlb-houmlb-1        4       14                  10\n",
       "23  2021/07/06/detmlb-texmlb-1        3       15                  12\n",
       "16  2021/07/06/bosmlb-anamlb-1        4       18                  14\n",
       "10  2022/06/26/houmlb-nyamlb-1        4       18                  14\n",
       "29  2023/06/21/oakmlb-clemlb-1        2       17                  15\n",
       "58  2021/04/07/milmlb-chnmlb-1        1       17                  16"
      ]
     },
     "execution_count": 53,
     "metadata": {},
     "output_type": "execute_result"
    }
   ],
   "source": [
    "compare.sort_values('values-not-missing').head(10)"
   ]
  },
  {
   "cell_type": "markdown",
   "metadata": {},
   "source": [
    "Only one game missing all values entirely, for the rest we can make the assumption that the score has not changed from the previous at bat"
   ]
  },
  {
   "cell_type": "code",
   "execution_count": 54,
   "metadata": {},
   "outputs": [
    {
     "data": {
      "text/html": [
       "<div>\n",
       "<style scoped>\n",
       "    .dataframe tbody tr th:only-of-type {\n",
       "        vertical-align: middle;\n",
       "    }\n",
       "\n",
       "    .dataframe tbody tr th {\n",
       "        vertical-align: top;\n",
       "    }\n",
       "\n",
       "    .dataframe thead th {\n",
       "        text-align: right;\n",
       "    }\n",
       "</style>\n",
       "<table border=\"1\" class=\"dataframe\">\n",
       "  <thead>\n",
       "    <tr style=\"text-align: right;\">\n",
       "      <th></th>\n",
       "      <th>pitcher</th>\n",
       "      <th>ab</th>\n",
       "      <th>pitchnum</th>\n",
       "      <th>inning</th>\n",
       "      <th>eventtype</th>\n",
       "    </tr>\n",
       "  </thead>\n",
       "  <tbody>\n",
       "    <tr>\n",
       "      <th>15487</th>\n",
       "      <td>Guduan, Reymin</td>\n",
       "      <td>61</td>\n",
       "      <td>1</td>\n",
       "      <td>7</td>\n",
       "      <td>ball</td>\n",
       "    </tr>\n",
       "    <tr>\n",
       "      <th>15488</th>\n",
       "      <td>Guduan, Reymin</td>\n",
       "      <td>61</td>\n",
       "      <td>2</td>\n",
       "      <td>7</td>\n",
       "      <td>ball</td>\n",
       "    </tr>\n",
       "    <tr>\n",
       "      <th>15489</th>\n",
       "      <td>Guduan, Reymin</td>\n",
       "      <td>61</td>\n",
       "      <td>3</td>\n",
       "      <td>7</td>\n",
       "      <td>called_strike</td>\n",
       "    </tr>\n",
       "    <tr>\n",
       "      <th>15490</th>\n",
       "      <td>Guduan, Reymin</td>\n",
       "      <td>61</td>\n",
       "      <td>4</td>\n",
       "      <td>7</td>\n",
       "      <td>sac_fly</td>\n",
       "    </tr>\n",
       "    <tr>\n",
       "      <th>15491</th>\n",
       "      <td>Guduan, Reymin</td>\n",
       "      <td>62</td>\n",
       "      <td>1</td>\n",
       "      <td>7</td>\n",
       "      <td>called_strike</td>\n",
       "    </tr>\n",
       "    <tr>\n",
       "      <th>15492</th>\n",
       "      <td>Guduan, Reymin</td>\n",
       "      <td>62</td>\n",
       "      <td>2</td>\n",
       "      <td>7</td>\n",
       "      <td>ball</td>\n",
       "    </tr>\n",
       "    <tr>\n",
       "      <th>15493</th>\n",
       "      <td>Guduan, Reymin</td>\n",
       "      <td>62</td>\n",
       "      <td>3</td>\n",
       "      <td>7</td>\n",
       "      <td>single</td>\n",
       "    </tr>\n",
       "    <tr>\n",
       "      <th>15494</th>\n",
       "      <td>Guduan, Reymin</td>\n",
       "      <td>63</td>\n",
       "      <td>1</td>\n",
       "      <td>7</td>\n",
       "      <td>ball</td>\n",
       "    </tr>\n",
       "    <tr>\n",
       "      <th>15495</th>\n",
       "      <td>Guduan, Reymin</td>\n",
       "      <td>63</td>\n",
       "      <td>2</td>\n",
       "      <td>7</td>\n",
       "      <td>foul</td>\n",
       "    </tr>\n",
       "    <tr>\n",
       "      <th>15496</th>\n",
       "      <td>Guduan, Reymin</td>\n",
       "      <td>63</td>\n",
       "      <td>3</td>\n",
       "      <td>7</td>\n",
       "      <td>foul</td>\n",
       "    </tr>\n",
       "    <tr>\n",
       "      <th>15497</th>\n",
       "      <td>Guduan, Reymin</td>\n",
       "      <td>63</td>\n",
       "      <td>4</td>\n",
       "      <td>7</td>\n",
       "      <td>ball</td>\n",
       "    </tr>\n",
       "    <tr>\n",
       "      <th>15498</th>\n",
       "      <td>Guduan, Reymin</td>\n",
       "      <td>63</td>\n",
       "      <td>5</td>\n",
       "      <td>7</td>\n",
       "      <td>foul</td>\n",
       "    </tr>\n",
       "    <tr>\n",
       "      <th>15499</th>\n",
       "      <td>Guduan, Reymin</td>\n",
       "      <td>63</td>\n",
       "      <td>6</td>\n",
       "      <td>7</td>\n",
       "      <td>field_out</td>\n",
       "    </tr>\n",
       "  </tbody>\n",
       "</table>\n",
       "</div>"
      ],
      "text/plain": [
       "              pitcher  ab  pitchnum  inning      eventtype\n",
       "15487  Guduan, Reymin  61         1       7           ball\n",
       "15488  Guduan, Reymin  61         2       7           ball\n",
       "15489  Guduan, Reymin  61         3       7  called_strike\n",
       "15490  Guduan, Reymin  61         4       7        sac_fly\n",
       "15491  Guduan, Reymin  62         1       7  called_strike\n",
       "15492  Guduan, Reymin  62         2       7           ball\n",
       "15493  Guduan, Reymin  62         3       7         single\n",
       "15494  Guduan, Reymin  63         1       7           ball\n",
       "15495  Guduan, Reymin  63         2       7           foul\n",
       "15496  Guduan, Reymin  63         3       7           foul\n",
       "15497  Guduan, Reymin  63         4       7           ball\n",
       "15498  Guduan, Reymin  63         5       7           foul\n",
       "15499  Guduan, Reymin  63         6       7      field_out"
      ]
     },
     "execution_count": 54,
     "metadata": {},
     "output_type": "execute_result"
    }
   ],
   "source": [
    "data.loc[(data['gameid'] == '2021/05/23/oakmlb-anamlb-1')][['pitcher', 'ab', 'pitchnum','inning', 'eventtype']]"
   ]
  },
  {
   "cell_type": "markdown",
   "metadata": {},
   "source": [
    "Doing further research online, we can find that the score was 4-5 for all these pitches, so fill these values"
   ]
  },
  {
   "cell_type": "code",
   "execution_count": 55,
   "metadata": {},
   "outputs": [],
   "source": [
    "data.loc[(data['gameid'] == '2021/05/23/oakmlb-anamlb-1'), 'homscore'] = 5\n",
    "data.loc[(data['gameid'] == '2021/05/23/oakmlb-anamlb-1'), 'visscore'] = 4"
   ]
  },
  {
   "cell_type": "markdown",
   "metadata": {},
   "source": [
    "front fill the remaining values"
   ]
  },
  {
   "cell_type": "code",
   "execution_count": 56,
   "metadata": {},
   "outputs": [],
   "source": [
    "data[['visscore', 'homscore']] = data[['visscore', 'homscore']].ffill()"
   ]
  },
  {
   "cell_type": "code",
   "execution_count": 57,
   "metadata": {},
   "outputs": [
    {
     "data": {
      "text/plain": [
       "gameid              0\n",
       "GameDate            0\n",
       "ab                  0\n",
       "pitchnum            0\n",
       "inning              0\n",
       "teambat             0\n",
       "balls               0\n",
       "strikes             0\n",
       "outs                0\n",
       "pitcher             0\n",
       "pitcherthrows       0\n",
       "batter              0\n",
       "batterside          0\n",
       "pitchresult         0\n",
       "pitchresult_desc    0\n",
       "eventtype           0\n",
       "pitchname           0\n",
       "pitchname_desc      0\n",
       "hometeam_id         0\n",
       "Home                0\n",
       "awayteam_id         0\n",
       "Visitor             0\n",
       "venue_id            0\n",
       "venue_name          0\n",
       "pitch_type          0\n",
       "visscore            0\n",
       "homscore            0\n",
       "r1bool              0\n",
       "r2bool              0\n",
       "r3bool              0\n",
       "dtype: int64"
      ]
     },
     "execution_count": 57,
     "metadata": {},
     "output_type": "execute_result"
    }
   ],
   "source": [
    "data.isna().sum()"
   ]
  },
  {
   "cell_type": "markdown",
   "metadata": {},
   "source": [
    "No more NA values!"
   ]
  },
  {
   "cell_type": "markdown",
   "metadata": {},
   "source": [
    "# Feature Building"
   ]
  },
  {
   "cell_type": "code",
   "execution_count": 58,
   "metadata": {},
   "outputs": [],
   "source": [
    "features = data.copy()"
   ]
  },
  {
   "cell_type": "markdown",
   "metadata": {},
   "source": [
    "Response (Pitch Type)"
   ]
  },
  {
   "cell_type": "code",
   "execution_count": 59,
   "metadata": {},
   "outputs": [],
   "source": [
    "features['pitch_type'] = features['pitch_type'].map({'Breaking Ball': 0, 'Fastball':1}) #Encode as 1s and 0s for logistic regression response"
   ]
  },
  {
   "cell_type": "markdown",
   "metadata": {},
   "source": [
    "Previous pitch / pattern recognition"
   ]
  },
  {
   "cell_type": "code",
   "execution_count": 60,
   "metadata": {},
   "outputs": [],
   "source": [
    "features['prev_pitch'] = features['pitch_type'].shift(-1)\n",
    "\n",
    "features.loc[(features['pitchnum'] == 1), 'last_pitch_na'] = 1 #don't want to previous pitch from one at bat to another\n",
    "features['last_pitch_na'] = features['last_pitch_na'].fillna(0)\n",
    "\n",
    "features.loc[(features['last_pitch_na'] == 0) & (features['prev_pitch'] == 1), 'last_pitch_fastball'] = 1\n",
    "features['last_pitch_fastball'] = features['last_pitch_fastball'].fillna(0) #don't need one for breaking ball because it is reference level\n",
    "\n",
    "features.loc[(features['last_pitch_na'] == 0) & ((features['eventtype'] == \"called_strike\") | (features['eventtype'] == \"swinging_strike\") | (features['eventtype'] == \"foul\")), 'last_pitch_strike'] = 1\n",
    "features['last_pitch_strike'] = features['last_pitch_strike'].fillna(0) #don't need one for ball because it is reference level\n",
    "\n",
    "features = features.drop('prev_pitch', axis=1)"
   ]
  },
  {
   "cell_type": "markdown",
   "metadata": {},
   "source": [
    "Leverage (and variables that go into leverage)"
   ]
  },
  {
   "cell_type": "code",
   "execution_count": 61,
   "metadata": {},
   "outputs": [],
   "source": [
    "features['score_diff'] = np.where(features['teambat'] == 0, features['homscore'] - features['visscore'], features['visscore'] - features['homscore'])\n",
    "\n",
    "features['in_scoring_position'] = features[['r2bool', 'r3bool']].max(axis=1) #potential predictor seperate from leverage\n",
    "features = features.rename({'r1bool':'on_first_base'}, axis=1)\n",
    "\n",
    "features['inning_weight'] = (features['inning']-1) // 3 + 1\n",
    "features.loc[features['inning_weight'] > 3, 'inning_weight'] = 3.0\n",
    "\n",
    "features['r2bool'] = features['r2bool'].astype('bool')\n",
    "features['r3bool'] = features['r3bool'].astype('bool')\n",
    "features['on_first_base'] = features['on_first_base'].astype('bool')\n",
    "\n",
    "features.loc[(features['on_first_base'] & ~features['r2bool'] & ~features['r3bool']), 'base_factor'] = 1.5\n",
    "features.loc[(features['r2bool'] ^ features['r3bool'] & ~features['on_first_base']), 'base_factor'] = 2.0\n",
    "features.loc[(features['r2bool'] & features['on_first_base'] & ~features['r3bool']) | (features['r3bool'] & features['on_first_base'] & ~features['r2bool']), 'base_factor'] = 2.25\n",
    "features.loc[(features['r2bool'] & ~features['on_first_base'] & features['r3bool']), 'base_factor'] = 2.5\n",
    "features.loc[(features['r2bool'] & features['on_first_base'] & features['r3bool']), 'base_factor'] = 2.75\n",
    "features['base_factor'] = features['base_factor'].fillna(1.0)\n",
    "\n",
    "features['leverage'] = features['inning_weight'] * (1 / (np.abs(features['score_diff']) + 1)) * features['base_factor']"
   ]
  },
  {
   "cell_type": "markdown",
   "metadata": {},
   "source": [
    "Platoon Splits"
   ]
  },
  {
   "cell_type": "code",
   "execution_count": 62,
   "metadata": {},
   "outputs": [],
   "source": [
    "#platoon_r_l is reference level\n",
    "\n",
    "features.loc[(features['batterside'] == 'L') & (features['pitcherthrows'] == 'L'), 'platoon_l_l'] = 1.0\n",
    "features['platoon_l_l'] = features['platoon_l_l'].fillna(0.0)\n",
    "features.loc[(features['batterside'] == 'R') & (features['pitcherthrows'] == 'R'), 'platoon_r_r'] = 1.0\n",
    "features['platoon_r_r'] = features['platoon_r_r'].fillna(0.0)\n",
    "features.loc[(data['batterside'] == 'L') & (features['pitcherthrows'] == 'R'), 'platoon_l_r'] = 1.0\n",
    "features['platoon_l_r'] = features['platoon_l_r'].fillna(0.0)"
   ]
  },
  {
   "cell_type": "markdown",
   "metadata": {},
   "source": [
    "Batting Counts"
   ]
  },
  {
   "cell_type": "code",
   "execution_count": null,
   "metadata": {},
   "outputs": [],
   "source": [
    "#binary variable for each specific count\n",
    "features['balls_strikes'] = features['balls'].astype(int).astype(str) + '_' + features['strikes'].astype(int).astype(str)\n",
    "one_hot_df = pd.get_dummies(features['balls_strikes'], prefix='Count', dtype=int)\n",
    "features = pd.concat([features, one_hot_df], axis=1)\n",
    "\n",
    "#used for grouping historical rates\n",
    "features['batter_count'] = features[['Count_2_0', 'Count_3_0', 'Count_3_1']].max(axis=1) \n",
    "features['batter_count'] = features['batter_count'].fillna(0.0)\n",
    "features['pitcher_count'] = features[['Count_0_2', 'Count_2_2', 'Count_1_2']].max(axis=1)\n",
    "features['pitcher_count'] = features['pitcher_count'].fillna(0.0)"
   ]
  },
  {
   "cell_type": "markdown",
   "metadata": {},
   "source": [
    "That's a lot of features!"
   ]
  },
  {
   "cell_type": "code",
   "execution_count": 64,
   "metadata": {},
   "outputs": [
    {
     "data": {
      "text/plain": [
       "Index(['gameid', 'GameDate', 'ab', 'pitchnum', 'inning', 'teambat', 'balls',\n",
       "       'strikes', 'outs', 'pitcher', 'pitcherthrows', 'batter', 'batterside',\n",
       "       'pitchresult', 'pitchresult_desc', 'eventtype', 'pitchname',\n",
       "       'pitchname_desc', 'hometeam_id', 'Home', 'awayteam_id', 'Visitor',\n",
       "       'venue_id', 'venue_name', 'pitch_type', 'visscore', 'homscore',\n",
       "       'on_first_base', 'r2bool', 'r3bool', 'last_pitch_na',\n",
       "       'last_pitch_fastball', 'last_pitch_strike', 'score_diff',\n",
       "       'in_scoring_position', 'inning_weight', 'base_factor', 'leverage',\n",
       "       'platoon_l_l', 'platoon_r_r', 'platoon_l_r', 'balls_strikes',\n",
       "       'Count_0_0', 'Count_0_1', 'Count_0_2', 'Count_1_0', 'Count_1_1',\n",
       "       'Count_1_2', 'Count_2_0', 'Count_2_1', 'Count_2_2', 'Count_3_0',\n",
       "       'Count_3_1', 'Count_3_2', 'batter_count', 'pitcher_count'],\n",
       "      dtype='object')"
      ]
     },
     "execution_count": 64,
     "metadata": {},
     "output_type": "execute_result"
    }
   ],
   "source": [
    "features.columns"
   ]
  },
  {
   "cell_type": "code",
   "execution_count": 65,
   "metadata": {},
   "outputs": [],
   "source": [
    "features.to_csv('data/model_data.csv', index=False)"
   ]
  }
 ],
 "metadata": {
  "kernelspec": {
   "display_name": "venv",
   "language": "python",
   "name": "python3"
  },
  "language_info": {
   "codemirror_mode": {
    "name": "ipython",
    "version": 3
   },
   "file_extension": ".py",
   "mimetype": "text/x-python",
   "name": "python",
   "nbconvert_exporter": "python",
   "pygments_lexer": "ipython3",
   "version": "3.12.2"
  }
 },
 "nbformat": 4,
 "nbformat_minor": 2
}
