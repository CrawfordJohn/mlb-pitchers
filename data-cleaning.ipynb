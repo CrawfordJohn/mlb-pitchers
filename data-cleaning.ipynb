{
 "cells": [
  {
   "cell_type": "code",
   "execution_count": 1,
   "metadata": {},
   "outputs": [],
   "source": [
    "import pandas as pd"
   ]
  },
  {
   "cell_type": "code",
   "execution_count": 3,
   "metadata": {},
   "outputs": [],
   "source": [
    "data = pd.read_csv('data/pitcher_subset.csv')"
   ]
  },
  {
   "cell_type": "code",
   "execution_count": 4,
   "metadata": {},
   "outputs": [
    {
     "name": "stdout",
     "output_type": "stream",
     "text": [
      "<class 'pandas.core.frame.DataFrame'>\n",
      "RangeIndex: 148535 entries, 0 to 148534\n",
      "Data columns (total 37 columns):\n",
      " #   Column            Non-Null Count   Dtype  \n",
      "---  ------            --------------   -----  \n",
      " 0   gameid            148535 non-null  object \n",
      " 1   GameDate          148535 non-null  object \n",
      " 2   ab                148535 non-null  int64  \n",
      " 3   pitchnum          148535 non-null  int64  \n",
      " 4   inning            148535 non-null  int64  \n",
      " 5   teambat           148535 non-null  int64  \n",
      " 6   balls             148535 non-null  int64  \n",
      " 7   strikes           148535 non-null  int64  \n",
      " 8   outs              148535 non-null  int64  \n",
      " 9   pitcher           148535 non-null  object \n",
      " 10  pitcherthrows     148535 non-null  object \n",
      " 11  batter            148535 non-null  object \n",
      " 12  batterside        148535 non-null  object \n",
      " 13  pitchresult       148535 non-null  object \n",
      " 14  pitchresult_desc  148535 non-null  object \n",
      " 15  eventtype         148535 non-null  object \n",
      " 16  pitchname         148535 non-null  object \n",
      " 17  pitchname_desc    148535 non-null  object \n",
      " 18  spinrate          148311 non-null  float64\n",
      " 19  relspeed          148535 non-null  float64\n",
      " 20  horzbreak         148535 non-null  float64\n",
      " 21  inducedvertbreak  148535 non-null  float64\n",
      " 22  platelocside      148535 non-null  float64\n",
      " 23  platelocheight    148535 non-null  float64\n",
      " 24  hometeam_id       148535 non-null  int64  \n",
      " 25  Home              148535 non-null  object \n",
      " 26  awayteam_id       148535 non-null  int64  \n",
      " 27  Visitor           148535 non-null  object \n",
      " 28  venue_id          148535 non-null  int64  \n",
      " 29  venue_name        148535 non-null  object \n",
      " 30  season            148535 non-null  int64  \n",
      " 31  pitchtype         148535 non-null  object \n",
      " 32  visscore          148357 non-null  float64\n",
      " 33  homscore          148357 non-null  float64\n",
      " 34  r1bool            148535 non-null  int64  \n",
      " 35  r2bool            148535 non-null  int64  \n",
      " 36  r3bool            148535 non-null  int64  \n",
      "dtypes: float64(8), int64(14), object(15)\n",
      "memory usage: 41.9+ MB\n"
     ]
    }
   ],
   "source": [
    "data.info()"
   ]
  },
  {
   "cell_type": "markdown",
   "metadata": {},
   "source": [
    "Remove unnecessary columns (can easily be added back if needed)"
   ]
  },
  {
   "cell_type": "code",
   "execution_count": 6,
   "metadata": {},
   "outputs": [],
   "source": [
    "data = data.drop(['spinrate', 'relspeed', 'horzbreak', 'inducedvertbreak', 'platelocside', 'platelocheight', 'venue_id', 'venue_name'], axis= 1 )"
   ]
  },
  {
   "cell_type": "markdown",
   "metadata": {},
   "source": [
    "Check for NA values"
   ]
  },
  {
   "cell_type": "code",
   "execution_count": null,
   "metadata": {},
   "outputs": [
    {
     "data": {
      "text/plain": [
       "gameid                0\n",
       "GameDate              0\n",
       "ab                    0\n",
       "pitchnum              0\n",
       "inning                0\n",
       "teambat               0\n",
       "balls                 0\n",
       "strikes               0\n",
       "outs                  0\n",
       "pitcher               0\n",
       "pitcherthrows         0\n",
       "batter                0\n",
       "batterside            0\n",
       "pitchresult           0\n",
       "pitchresult_desc      0\n",
       "eventtype             0\n",
       "pitchname             0\n",
       "pitchname_desc        0\n",
       "hometeam_id           0\n",
       "Home                  0\n",
       "awayteam_id           0\n",
       "Visitor               0\n",
       "season                0\n",
       "pitchtype             0\n",
       "visscore            178\n",
       "homscore            178\n",
       "r1bool                0\n",
       "r2bool                0\n",
       "r3bool                0\n",
       "dtype: int64"
      ]
     },
     "execution_count": 8,
     "metadata": {},
     "output_type": "execute_result"
    }
   ],
   "source": [
    "data.isna().sum()"
   ]
  },
  {
   "cell_type": "markdown",
   "metadata": {},
   "source": [
    "Only na values in visscore and homscore (and they occur at same time)"
   ]
  },
  {
   "cell_type": "code",
   "execution_count": null,
   "metadata": {},
   "outputs": [],
   "source": [
    "gameid_counts = data['gameid'].value_counts().reset_index()\n",
    "na_gameid_counts = data[data['visscore'].isna()]['gameid'].value_counts().reset_index()\n",
    "compare = pd.merge(na_gameid_counts, gameid_counts, on='gameid', how='left')\n",
    "compare['values-not-missing'] = compare['count_y'] - compare['count_x']"
   ]
  },
  {
   "cell_type": "code",
   "execution_count": 26,
   "metadata": {},
   "outputs": [
    {
     "data": {
      "text/html": [
       "<div>\n",
       "<style scoped>\n",
       "    .dataframe tbody tr th:only-of-type {\n",
       "        vertical-align: middle;\n",
       "    }\n",
       "\n",
       "    .dataframe tbody tr th {\n",
       "        vertical-align: top;\n",
       "    }\n",
       "\n",
       "    .dataframe thead th {\n",
       "        text-align: right;\n",
       "    }\n",
       "</style>\n",
       "<table border=\"1\" class=\"dataframe\">\n",
       "  <thead>\n",
       "    <tr style=\"text-align: right;\">\n",
       "      <th></th>\n",
       "      <th>gameid</th>\n",
       "      <th>count_x</th>\n",
       "      <th>count_y</th>\n",
       "      <th>values-not-missing</th>\n",
       "    </tr>\n",
       "  </thead>\n",
       "  <tbody>\n",
       "    <tr>\n",
       "      <th>0</th>\n",
       "      <td>2021/05/23/oakmlb-anamlb-1</td>\n",
       "      <td>13</td>\n",
       "      <td>13</td>\n",
       "      <td>0</td>\n",
       "    </tr>\n",
       "    <tr>\n",
       "      <th>2</th>\n",
       "      <td>2021/06/26/arimlb-sdnmlb-1</td>\n",
       "      <td>7</td>\n",
       "      <td>13</td>\n",
       "      <td>6</td>\n",
       "    </tr>\n",
       "    <tr>\n",
       "      <th>10</th>\n",
       "      <td>2021/06/26/oakmlb-sfnmlb-1</td>\n",
       "      <td>4</td>\n",
       "      <td>12</td>\n",
       "      <td>8</td>\n",
       "    </tr>\n",
       "  </tbody>\n",
       "</table>\n",
       "</div>"
      ],
      "text/plain": [
       "                        gameid  count_x  count_y  values-not-missing\n",
       "0   2021/05/23/oakmlb-anamlb-1       13       13                   0\n",
       "2   2021/06/26/arimlb-sdnmlb-1        7       13                   6\n",
       "10  2021/06/26/oakmlb-sfnmlb-1        4       12                   8"
      ]
     },
     "execution_count": 26,
     "metadata": {},
     "output_type": "execute_result"
    }
   ],
   "source": [
    "compare.sort_values('values-not-missing').head(3)"
   ]
  },
  {
   "cell_type": "markdown",
   "metadata": {},
   "source": [
    "Only one game missing all values entirely, for the rest we can make the assumption that the score has not changed from the previous at bat"
   ]
  },
  {
   "cell_type": "code",
   "execution_count": null,
   "metadata": {},
   "outputs": [],
   "source": [
    "data['GameDate'] = data[]"
   ]
  }
 ],
 "metadata": {
  "kernelspec": {
   "display_name": "venv",
   "language": "python",
   "name": "python3"
  },
  "language_info": {
   "codemirror_mode": {
    "name": "ipython",
    "version": 3
   },
   "file_extension": ".py",
   "mimetype": "text/x-python",
   "name": "python",
   "nbconvert_exporter": "python",
   "pygments_lexer": "ipython3",
   "version": "3.12.2"
  }
 },
 "nbformat": 4,
 "nbformat_minor": 2
}
