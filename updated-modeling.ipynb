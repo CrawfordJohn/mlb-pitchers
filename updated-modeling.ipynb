{
 "cells": [
  {
   "cell_type": "code",
   "execution_count": 2,
   "metadata": {},
   "outputs": [],
   "source": [
    "import pandas as pd\n",
    "import numpy as np\n",
    "import statsmodels.api as sm\n",
    "from sklearn.metrics import roc_auc_score, brier_score_loss\n",
    "import seaborn as sns\n",
    "import matplotlib.pyplot as plt\n",
    "import datetime as datetime"
   ]
  },
  {
   "cell_type": "code",
   "execution_count": 3,
   "metadata": {},
   "outputs": [],
   "source": [
    "data = pd.read_csv('data/model_data.csv')"
   ]
  },
  {
   "cell_type": "code",
   "execution_count": 4,
   "metadata": {},
   "outputs": [
    {
     "data": {
      "text/plain": [
       "198"
      ]
     },
     "execution_count": 4,
     "metadata": {},
     "output_type": "execute_result"
    }
   ],
   "source": [
    "len(data['pitcher'].unique())"
   ]
  },
  {
   "cell_type": "markdown",
   "metadata": {},
   "source": [
    "# Modeling"
   ]
  },
  {
   "cell_type": "markdown",
   "metadata": {},
   "source": [
    "Feature Selection"
   ]
  },
  {
   "cell_type": "code",
   "execution_count": 5,
   "metadata": {},
   "outputs": [],
   "source": [
    "log_reg_df = data[['pitch_type', 'GameDate', 'pitcher', 'batter', 'ab', 'pitchnum', \n",
    "       'Count_0_1', 'Count_0_2', 'Count_2_1',\n",
    "       'Count_1_0', 'Count_1_1', 'Count_1_2', 'Count_2_0', 'Count_2_2', 'Count_3_1',\n",
    "       'Count_3_0', 'batter_count', 'pitcher_count']].copy()\n",
    "log_reg_df['neutral_count'] = ((log_reg_df['batter_count'] == 0) & (log_reg_df['pitcher_count']== 0)).astype(int)"
   ]
  },
  {
   "cell_type": "markdown",
   "metadata": {},
   "source": [
    "Player-Specific Features and train/test split"
   ]
  },
  {
   "cell_type": "code",
   "execution_count": 6,
   "metadata": {},
   "outputs": [
    {
     "name": "stdout",
     "output_type": "stream",
     "text": [
      "batter count mean fastball rate 0.80156054330026\n",
      "pitcher count mean fastball rate 0.4922912205567452\n",
      "neutral count mean fastball rate 0.6018016945453102\n"
     ]
    }
   ],
   "source": [
    "print(f\"batter count mean fastball rate {log_reg_df[log_reg_df['batter_count'] == 1.0]['pitch_type'].mean()}\")\n",
    "print(f\"pitcher count mean fastball rate {log_reg_df[log_reg_df['pitcher_count'] == 1.0]['pitch_type'].mean()}\")\n",
    "print(f\"neutral count mean fastball rate {log_reg_df[log_reg_df['neutral_count'] == 1.0]['pitch_type'].mean()}\")\n",
    "\n",
    "size = 50 #how much shrinkage we want to apply\n",
    "\n",
    "#Shrinkage terms match overall rates we want to regress to\n",
    "batter_count_sum = 49/size\n",
    "batter_count_tot = 100/size\n",
    "\n",
    "pitcher_count_sum = 80/size\n",
    "pitcher_count_tot = 100/size\n",
    "\n",
    "neutral_count_sum = 60/size\n",
    "neutral_count_tot = 100/size"
   ]
  },
  {
   "cell_type": "code",
   "execution_count": 7,
   "metadata": {},
   "outputs": [],
   "source": [
    "def calculate_rate(df, group_by_col, condition=None, prior_sum=0, prior_count=0, sum_col='sum', count_col='count', suffix=''):\n",
    "    filtered_df = df.query(condition)\n",
    "    rate_df = filtered_df.groupby(group_by_col)['pitch_type'].agg([sum_col, count_col]).reset_index()\n",
    "    rate_df[sum_col] += prior_sum\n",
    "    rate_df[count_col] += prior_count\n",
    "    rate_df = rate_df.rename(columns={sum_col: f'{group_by_col}_{suffix}_sum', count_col: f'{group_by_col}_{suffix}_tot'})\n",
    "    rate_df[f'{group_by_col}_fb_rate_{suffix}'] = rate_df[f'{group_by_col}_{suffix}_sum'] / rate_df[f'{group_by_col}_{suffix}_tot']\n",
    "    return rate_df\n",
    "\n",
    "# Filter data\n",
    "train = log_reg_df[log_reg_df['GameDate'] < '2023-06-15']\n",
    "historical_rates = train.copy()\n",
    "\n",
    "# Naive historical rates\n",
    "naive_historical_rates = historical_rates.groupby('pitcher')['pitch_type'].agg(['sum', 'count']).reset_index()\n",
    "naive_historical_rates['naive_historical_rate'] = naive_historical_rates['sum'] / naive_historical_rates['count']\n",
    "naive_historical_rates = naive_historical_rates[['pitcher', 'naive_historical_rate']]\n",
    "\n",
    "# Calculate rates for pitcher and batter under different count conditions\n",
    "\n",
    "conditions = {\n",
    "    'batter_count': \"batter_count == 1.0\",\n",
    "    'pitcher_count': \"pitcher_count == 1.0\",\n",
    "    'neutral_count': 'neutral_count == 1.0'\n",
    "}\n",
    "\n",
    "# Calculate pitcher rates\n",
    "pitcher_rates = [\n",
    "    calculate_rate(historical_rates, 'pitcher', condition, pitcher_count_sum, pitcher_count_tot, suffix=key) for key, condition in conditions.items()\n",
    "]\n",
    "\n",
    "# Calculate batter rates\n",
    "batter_rates = [\n",
    "    calculate_rate(historical_rates, 'batter', condition, batter_count_sum, batter_count_tot, suffix=key) for key, condition in conditions.items()\n",
    "]\n",
    "\n",
    "# Merge calculated rates\n",
    "for rate_df in pitcher_rates + [naive_historical_rates]:\n",
    "    train = train.merge(rate_df, on='pitcher')\n",
    "\n",
    "for rate_df in batter_rates:\n",
    "    train = train.merge(rate_df, on='batter')\n",
    "\n",
    "# Keep necessary columns\n",
    "columns_to_keep = ['Count_0_1', 'Count_0_2', 'Count_2_1', 'Count_1_0', 'Count_1_1',\n",
    "       'Count_1_2', 'Count_2_0', 'Count_2_2', 'Count_3_1', 'Count_3_0', 'pitcher_fb_rate_batter_count',\n",
    "       'pitcher_fb_rate_pitcher_count', 'pitcher_fb_rate_neutral_count', 'batter_fb_rate_batter_count',\n",
    "       'batter_fb_rate_pitcher_count', 'batter_fb_rate_neutral_count', 'batter_count', 'neutral_count', 'pitcher_count']\n",
    "X_train = train[columns_to_keep]\n",
    "feature_names = X_train.columns\n",
    "y_train = train[['pitch_type']]"
   ]
  },
  {
   "cell_type": "code",
   "execution_count": 8,
   "metadata": {},
   "outputs": [
    {
     "name": "stderr",
     "output_type": "stream",
     "text": [
      "C:\\Users\\johng\\AppData\\Local\\Temp\\ipykernel_5872\\139021506.py:29: DeprecationWarning: DataFrameGroupBy.apply operated on the grouping columns. This behavior is deprecated, and in a future version of pandas the grouping columns will be excluded from the operation. Either pass `include_groups=False` to exclude the groupings or explicitly select the grouping columns after groupby to silence this warning.\n",
      "  test['pitcher_cumsum_b'] = test.groupby('pitcher').apply(lambda x: np.cumsum((x['pitch_type']==1) & (x['batter_count'] == 1), 0)).reset_index(drop=True)\n",
      "C:\\Users\\johng\\AppData\\Local\\Temp\\ipykernel_5872\\139021506.py:30: DeprecationWarning: DataFrameGroupBy.apply operated on the grouping columns. This behavior is deprecated, and in a future version of pandas the grouping columns will be excluded from the operation. Either pass `include_groups=False` to exclude the groupings or explicitly select the grouping columns after groupby to silence this warning.\n",
      "  test['pitcher_cumsum_p'] = test.groupby('pitcher').apply(lambda x: np.cumsum((x['pitch_type']==1) & (x['pitcher_count'] == 1), 0)).reset_index(drop=True)\n",
      "C:\\Users\\johng\\AppData\\Local\\Temp\\ipykernel_5872\\139021506.py:31: DeprecationWarning: DataFrameGroupBy.apply operated on the grouping columns. This behavior is deprecated, and in a future version of pandas the grouping columns will be excluded from the operation. Either pass `include_groups=False` to exclude the groupings or explicitly select the grouping columns after groupby to silence this warning.\n",
      "  test['batter_cumsum_b'] = test.groupby('batter').apply(lambda x: np.cumsum((x['pitch_type']==1) & (x['batter_count'] == 1), 0)).reset_index(drop=True)\n",
      "C:\\Users\\johng\\AppData\\Local\\Temp\\ipykernel_5872\\139021506.py:32: DeprecationWarning: DataFrameGroupBy.apply operated on the grouping columns. This behavior is deprecated, and in a future version of pandas the grouping columns will be excluded from the operation. Either pass `include_groups=False` to exclude the groupings or explicitly select the grouping columns after groupby to silence this warning.\n",
      "  test['batter_cumsum_p'] = test.groupby('batter').apply(lambda x: np.cumsum((x['pitch_type']==1) & (x['pitcher_count'] == 1), 0)).reset_index(drop=True)\n",
      "C:\\Users\\johng\\AppData\\Local\\Temp\\ipykernel_5872\\139021506.py:33: DeprecationWarning: DataFrameGroupBy.apply operated on the grouping columns. This behavior is deprecated, and in a future version of pandas the grouping columns will be excluded from the operation. Either pass `include_groups=False` to exclude the groupings or explicitly select the grouping columns after groupby to silence this warning.\n",
      "  test['pitcher_cumsum_n'] = test.groupby('pitcher').apply(lambda x: np.cumsum((x['pitch_type']==1) & (x['neutral_count']== 1), 0)).reset_index(drop=True)\n",
      "C:\\Users\\johng\\AppData\\Local\\Temp\\ipykernel_5872\\139021506.py:34: DeprecationWarning: DataFrameGroupBy.apply operated on the grouping columns. This behavior is deprecated, and in a future version of pandas the grouping columns will be excluded from the operation. Either pass `include_groups=False` to exclude the groupings or explicitly select the grouping columns after groupby to silence this warning.\n",
      "  test['batter_cumsum_n'] = test.groupby('batter').apply(lambda x: np.cumsum((x['pitch_type']==1) & (x['neutral_count']== 1), 0)).reset_index(drop=True)\n",
      "C:\\Users\\johng\\AppData\\Local\\Temp\\ipykernel_5872\\139021506.py:36: DeprecationWarning: DataFrameGroupBy.apply operated on the grouping columns. This behavior is deprecated, and in a future version of pandas the grouping columns will be excluded from the operation. Either pass `include_groups=False` to exclude the groupings or explicitly select the grouping columns after groupby to silence this warning.\n",
      "  test['pitcher_cumcount_b'] = test.groupby('pitcher').apply(lambda x: np.cumsum((x['batter_count'] == 1), 0)).reset_index(drop=True)\n",
      "C:\\Users\\johng\\AppData\\Local\\Temp\\ipykernel_5872\\139021506.py:37: DeprecationWarning: DataFrameGroupBy.apply operated on the grouping columns. This behavior is deprecated, and in a future version of pandas the grouping columns will be excluded from the operation. Either pass `include_groups=False` to exclude the groupings or explicitly select the grouping columns after groupby to silence this warning.\n",
      "  test['pitcher_cumcount_p'] = test.groupby('pitcher').apply(lambda x: np.cumsum((x['pitcher_count'] == 1), 0)).reset_index(drop=True)\n",
      "C:\\Users\\johng\\AppData\\Local\\Temp\\ipykernel_5872\\139021506.py:38: DeprecationWarning: DataFrameGroupBy.apply operated on the grouping columns. This behavior is deprecated, and in a future version of pandas the grouping columns will be excluded from the operation. Either pass `include_groups=False` to exclude the groupings or explicitly select the grouping columns after groupby to silence this warning.\n",
      "  test['batter_cumcount_b'] = test.groupby('batter').apply(lambda x: np.cumsum((x['batter_count'] == 1), 0)).reset_index(drop=True)\n",
      "C:\\Users\\johng\\AppData\\Local\\Temp\\ipykernel_5872\\139021506.py:39: DeprecationWarning: DataFrameGroupBy.apply operated on the grouping columns. This behavior is deprecated, and in a future version of pandas the grouping columns will be excluded from the operation. Either pass `include_groups=False` to exclude the groupings or explicitly select the grouping columns after groupby to silence this warning.\n",
      "  test['batter_cumcount_p'] = test.groupby('batter').apply(lambda x: np.cumsum((x['pitcher_count'] == 1), 0)).reset_index(drop=True)\n",
      "C:\\Users\\johng\\AppData\\Local\\Temp\\ipykernel_5872\\139021506.py:40: DeprecationWarning: DataFrameGroupBy.apply operated on the grouping columns. This behavior is deprecated, and in a future version of pandas the grouping columns will be excluded from the operation. Either pass `include_groups=False` to exclude the groupings or explicitly select the grouping columns after groupby to silence this warning.\n",
      "  test['pitcher_cumcount_n'] = test.groupby('pitcher').apply(lambda x: np.cumsum((x['neutral_count']== 1), 0)).reset_index(drop=True)\n",
      "C:\\Users\\johng\\AppData\\Local\\Temp\\ipykernel_5872\\139021506.py:41: DeprecationWarning: DataFrameGroupBy.apply operated on the grouping columns. This behavior is deprecated, and in a future version of pandas the grouping columns will be excluded from the operation. Either pass `include_groups=False` to exclude the groupings or explicitly select the grouping columns after groupby to silence this warning.\n",
      "  test['batter_cumcount_n'] = test.groupby('batter').apply(lambda x: np.cumsum((x['neutral_count']== 1), 0)).reset_index(drop=True)\n"
     ]
    }
   ],
   "source": [
    "def merge_rates(test_df, rate_dfs, merge_on):\n",
    "    for rate_df in rate_dfs:\n",
    "        if merge_on in rate_df.columns:\n",
    "            test_df = test_df.merge(rate_df, on=merge_on, how='left')\n",
    "    return test_df\n",
    "\n",
    "test = log_reg_df[log_reg_df['GameDate'] >= '2023-06-15'] #~19% of data after this date\n",
    "\n",
    "# Combine rate information from train set into test\n",
    "rate_dfs = pitcher_rates + batter_rates + [naive_historical_rates]\n",
    "test = merge_rates(test, rate_dfs, merge_on='pitcher')\n",
    "test = merge_rates(test, batter_rates, merge_on='batter')\n",
    "\n",
    "# Fill pitchers who don't have any data in the train set with averages \n",
    "test.fillna({\n",
    "    'pitcher_batter_count_tot': batter_count_tot, 'pitcher_batter_count_sum': batter_count_sum, \n",
    "    'pitcher_pitcher_count_tot': pitcher_count_tot, 'pitcher_pitcher_count_sum': pitcher_count_sum, \n",
    "    'pitcher_neutral_count_tot': neutral_count_tot, 'pitcher_neutral_count_sum': neutral_count_sum, \n",
    "    'batter_batter_count_tot': batter_count_tot, 'batter_batter_count_sum': batter_count_sum, \n",
    "    'batter_pitcher_count_sum': pitcher_count_tot, 'batter_pitcher_count_tot': pitcher_count_sum,\n",
    "    'batter_neutral_count_tot': neutral_count_tot, 'batter_neutral_count_sum': neutral_count_sum\n",
    "    \n",
    "}, inplace=True)\n",
    "\n",
    "# Sort data to perform cummalative counts\n",
    "test = test.sort_values(['pitcher', 'GameDate', 'ab', 'pitchnum']).reset_index(drop=True)\n",
    "\n",
    "# Perform cummalative sums and totals for each pitcher, for each type of count, to update the rates as the test set goes on\n",
    "test['pitcher_cumsum_b'] = test.groupby('pitcher').apply(lambda x: np.cumsum((x['pitch_type']==1) & (x['batter_count'] == 1), 0)).reset_index(drop=True)\n",
    "test['pitcher_cumsum_p'] = test.groupby('pitcher').apply(lambda x: np.cumsum((x['pitch_type']==1) & (x['pitcher_count'] == 1), 0)).reset_index(drop=True)\n",
    "test['batter_cumsum_b'] = test.groupby('batter').apply(lambda x: np.cumsum((x['pitch_type']==1) & (x['batter_count'] == 1), 0)).reset_index(drop=True)\n",
    "test['batter_cumsum_p'] = test.groupby('batter').apply(lambda x: np.cumsum((x['pitch_type']==1) & (x['pitcher_count'] == 1), 0)).reset_index(drop=True)\n",
    "test['pitcher_cumsum_n'] = test.groupby('pitcher').apply(lambda x: np.cumsum((x['pitch_type']==1) & (x['neutral_count']== 1), 0)).reset_index(drop=True)\n",
    "test['batter_cumsum_n'] = test.groupby('batter').apply(lambda x: np.cumsum((x['pitch_type']==1) & (x['neutral_count']== 1), 0)).reset_index(drop=True)\n",
    "\n",
    "test['pitcher_cumcount_b'] = test.groupby('pitcher').apply(lambda x: np.cumsum((x['batter_count'] == 1), 0)).reset_index(drop=True)\n",
    "test['pitcher_cumcount_p'] = test.groupby('pitcher').apply(lambda x: np.cumsum((x['pitcher_count'] == 1), 0)).reset_index(drop=True)\n",
    "test['batter_cumcount_b'] = test.groupby('batter').apply(lambda x: np.cumsum((x['batter_count'] == 1), 0)).reset_index(drop=True)\n",
    "test['batter_cumcount_p'] = test.groupby('batter').apply(lambda x: np.cumsum((x['pitcher_count'] == 1), 0)).reset_index(drop=True)\n",
    "test['pitcher_cumcount_n'] = test.groupby('pitcher').apply(lambda x: np.cumsum((x['neutral_count']== 1), 0)).reset_index(drop=True)\n",
    "test['batter_cumcount_n'] = test.groupby('batter').apply(lambda x: np.cumsum((x['neutral_count']== 1), 0)).reset_index(drop=True)\n",
    "\n",
    "# Update the totals with this new information\n",
    "test['pitcher_batter_count_tot'] = test['pitcher_batter_count_tot'] + test['pitcher_cumcount_b'] \n",
    "test['pitcher_pitcher_count_tot'] = test['pitcher_pitcher_count_tot'] + test['pitcher_cumcount_p']\n",
    "test['pitcher_batter_count_sum'] = test['pitcher_batter_count_sum'] + test['pitcher_cumsum_b']\n",
    "test['pitcher_pitcher_count_sum'] = test['pitcher_pitcher_count_sum'] + test['pitcher_cumsum_p']\n",
    "test['pitcher_neutral_count_sum'] = test['pitcher_neutral_count_sum'] + test['pitcher_cumsum_n']\n",
    "test['pitcher_neutral_count_tot'] = test['pitcher_neutral_count_tot'] + test['pitcher_cumcount_n']\n",
    "\n",
    "test['batter_batter_count_tot'] = test['batter_batter_count_tot'] + test['batter_cumcount_b']\n",
    "test['batter_pitcher_count_tot'] = test['batter_pitcher_count_tot'] + test['batter_cumcount_p']\n",
    "test['batter_batter_count_sum'] = test['batter_batter_count_sum'] + test['batter_cumsum_b']\n",
    "test['batter_pitcher_count_sum'] = test['batter_pitcher_count_sum'] + test['batter_cumsum_p']\n",
    "test['batter_neutral_count_sum'] = test['batter_neutral_count_sum'] + test['batter_cumsum_n']\n",
    "test['batter_neutral_count_tot'] = test['batter_neutral_count_tot'] + test['batter_cumcount_n']\n",
    "\n",
    "# Recalculate rates at each step\n",
    "test['pitcher_fb_rate_batter_count'] = test['pitcher_batter_count_sum'] / test['pitcher_batter_count_tot']\n",
    "test['pitcher_fb_rate_pitcher_count'] = test['pitcher_pitcher_count_sum'] / test['pitcher_pitcher_count_tot']\n",
    "test['batter_fb_rate_batter_count'] = test['batter_batter_count_sum'] / test['batter_batter_count_tot']\n",
    "test['batter_fb_rate_pitcher_count'] = test['batter_pitcher_count_sum'] / test['batter_pitcher_count_tot']\n",
    "test['batter_fb_rate_neutral_count'] = test['batter_neutral_count_sum'] / test['batter_neutral_count_tot']\n",
    "test['pitcher_fb_rate_neutral_count'] = test['pitcher_neutral_count_sum'] / test['pitcher_neutral_count_tot']\n",
    "\n",
    "X_test = test[columns_to_keep]\n",
    "y_test = test[['pitch_type']]"
   ]
  },
  {
   "cell_type": "markdown",
   "metadata": {},
   "source": [
    "Save to csv to pass to R to expirement with random effects"
   ]
  },
  {
   "cell_type": "code",
   "execution_count": null,
   "metadata": {},
   "outputs": [],
   "source": [
    "#train.to_csv('train_data.csv', index=False) \n",
    "#test.to_csv('test_data.csv', index=False)"
   ]
  },
  {
   "cell_type": "code",
   "execution_count": 10,
   "metadata": {},
   "outputs": [
    {
     "name": "stderr",
     "output_type": "stream",
     "text": [
      "C:\\Users\\johng\\AppData\\Local\\Temp\\ipykernel_5872\\1328065190.py:4: SettingWithCopyWarning: \n",
      "A value is trying to be set on a copy of a slice from a DataFrame.\n",
      "Try using .loc[row_indexer,col_indexer] = value instead\n",
      "\n",
      "See the caveats in the documentation: https://pandas.pydata.org/pandas-docs/stable/user_guide/indexing.html#returning-a-view-versus-a-copy\n",
      "  X_train['pitcher_rate'] = X_train['pitcher_fb_rate_pitcher_count'] * X_train['pitcher_count'] +\\\n",
      "C:\\Users\\johng\\AppData\\Local\\Temp\\ipykernel_5872\\1328065190.py:8: SettingWithCopyWarning: \n",
      "A value is trying to be set on a copy of a slice from a DataFrame.\n",
      "Try using .loc[row_indexer,col_indexer] = value instead\n",
      "\n",
      "See the caveats in the documentation: https://pandas.pydata.org/pandas-docs/stable/user_guide/indexing.html#returning-a-view-versus-a-copy\n",
      "  X_test['pitcher_rate'] = X_test['pitcher_fb_rate_pitcher_count'] * X_test['pitcher_count'] +\\\n"
     ]
    }
   ],
   "source": [
    "#Upon fixing the error with updating rates, only pitcher rates improve AUC score, not batter rates\n",
    "\n",
    "# Create Aggregate rate column that produces the correct rate based on the count\n",
    "X_train['pitcher_rate'] = X_train['pitcher_fb_rate_pitcher_count'] * X_train['pitcher_count'] +\\\n",
    "X_train['pitcher_fb_rate_batter_count'] * X_train['batter_count'] +\\\n",
    "X_train['pitcher_fb_rate_neutral_count'] * X_train['neutral_count']\n",
    "\n",
    "X_test['pitcher_rate'] = X_test['pitcher_fb_rate_pitcher_count'] * X_test['pitcher_count'] +\\\n",
    "X_test['pitcher_fb_rate_batter_count'] * X_test['batter_count'] +\\\n",
    "X_test['pitcher_fb_rate_neutral_count'] * X_test['neutral_count']\n",
    "\n",
    "\n",
    "X_train = X_train.drop(['pitcher_fb_rate_batter_count', 'pitcher_fb_rate_pitcher_count',\n",
    "       'pitcher_fb_rate_neutral_count', 'batter_fb_rate_batter_count',\n",
    "       'batter_fb_rate_pitcher_count', 'batter_fb_rate_neutral_count',\n",
    "       'batter_count', 'neutral_count', 'pitcher_count'], axis = 1)\n",
    "\n",
    "X_test = X_test.drop([\n",
    "       'pitcher_fb_rate_batter_count', 'pitcher_fb_rate_pitcher_count',\n",
    "       'pitcher_fb_rate_neutral_count', 'batter_fb_rate_batter_count',\n",
    "       'batter_fb_rate_pitcher_count', 'batter_fb_rate_neutral_count',\n",
    "       'batter_count', 'neutral_count', 'pitcher_count'], axis = 1)\n",
    "\n"
   ]
  },
  {
   "cell_type": "markdown",
   "metadata": {},
   "source": [
    "Train Lin Reg Model and make prediction on Test set (and create naive predictions)"
   ]
  },
  {
   "cell_type": "code",
   "execution_count": 11,
   "metadata": {},
   "outputs": [
    {
     "name": "stdout",
     "output_type": "stream",
     "text": [
      "Optimization terminated successfully.\n",
      "         Current function value: 0.589646\n",
      "         Iterations 7\n",
      "                           Logit Regression Results                           \n",
      "==============================================================================\n",
      "Dep. Variable:             pitch_type   No. Observations:               117243\n",
      "Model:                          Logit   Df Residuals:                   117231\n",
      "Method:                           MLE   Df Model:                           11\n",
      "Date:                Mon, 02 Dec 2024   Pseudo R-squ.:                  0.1291\n",
      "Time:                        10:35:46   Log-Likelihood:                -69132.\n",
      "converged:                       True   LL-Null:                       -79377.\n",
      "Covariance Type:            nonrobust   LLR p-value:                     0.000\n",
      "================================================================================\n",
      "                   coef    std err          z      P>|z|      [0.025      0.975]\n",
      "--------------------------------------------------------------------------------\n",
      "const           -2.4804      0.028    -90.035      0.000      -2.534      -2.426\n",
      "Count_0_1       -0.2538      0.021    -11.864      0.000      -0.296      -0.212\n",
      "Count_0_2       -0.0653      0.027     -2.446      0.014      -0.118      -0.013\n",
      "Count_2_1        0.2333      0.031      7.509      0.000       0.172       0.294\n",
      "Count_1_0        0.2498      0.024     10.476      0.000       0.203       0.297\n",
      "Count_1_1       -0.2225      0.023     -9.519      0.000      -0.268      -0.177\n",
      "Count_1_2       -0.0375      0.024     -1.588      0.112      -0.084       0.009\n",
      "Count_2_0       -0.1949      0.042     -4.631      0.000      -0.277      -0.112\n",
      "Count_2_2        0.1346      0.025      5.353      0.000       0.085       0.184\n",
      "Count_3_1        0.1306      0.055      2.372      0.018       0.023       0.238\n",
      "Count_3_0        1.8234      0.131     13.890      0.000       1.566       2.081\n",
      "pitcher_rate     4.9386      0.043    115.441      0.000       4.855       5.022\n",
      "================================================================================\n"
     ]
    }
   ],
   "source": [
    "X_train = sm.add_constant(X_train)\n",
    "X_test = sm.add_constant(X_test)\n",
    "\n",
    "\n",
    "# Create and fit the logistic regression model\n",
    "model = sm.Logit(y_train, X_train)\n",
    "result = model.fit()\n",
    "\n",
    "print(result.summary())\n",
    "# Predict on the test set\n",
    "y_plot = result.predict(X_train)\n",
    "y_pred_prob = result.predict(X_test)\n",
    "y_train_pred = (y_plot >= 0.5).astype(int)\n",
    "y_pred = (y_pred_prob >= 0.5).astype(int)\n",
    "\n",
    "naive_prob = test['naive_historical_rate'].values\n",
    "naive_prob[np.isnan(naive_prob)] = np.nanmean(naive_prob)\n",
    "y_pred_naive = (naive_prob >= 0.5).astype(int)"
   ]
  },
  {
   "cell_type": "markdown",
   "metadata": {},
   "source": [
    "Results from Random Effects"
   ]
  },
  {
   "cell_type": "code",
   "execution_count": 12,
   "metadata": {},
   "outputs": [],
   "source": [
    "#y_random_prob = pd.read_csv(\"predicted_probs.csv\")['x']\n",
    "#y_pred2 = (y_random_prob > 0.5).astype('int')"
   ]
  },
  {
   "cell_type": "markdown",
   "metadata": {},
   "source": [
    "# Model Evaluation / Results"
   ]
  },
  {
   "cell_type": "code",
   "execution_count": 13,
   "metadata": {},
   "outputs": [],
   "source": [
    "result_df = pd.concat([test['pitcher'], X_test, pd.Series(y_pred), y_test], axis=1)\n",
    "result_df = result_df.rename({0:'pred_pitch'}, axis=1)\n",
    "result_df['pred_prob'] = y_pred_prob\n",
    "#result_df['pred_prob_rand'] = y_random_prob\n",
    "#result_df['y_pred_rand'] = y_pred2"
   ]
  },
  {
   "cell_type": "markdown",
   "metadata": {},
   "source": [
    "Scores"
   ]
  },
  {
   "cell_type": "code",
   "execution_count": 14,
   "metadata": {},
   "outputs": [
    {
     "name": "stdout",
     "output_type": "stream",
     "text": [
      "Our model has a brier score of 0.2067 and the naive model has a score of 0.222\n"
     ]
    }
   ],
   "source": [
    "our_model = round(brier_score_loss(y_test, y_pred_prob), 4)\n",
    "naive_model = round(brier_score_loss(y_test, naive_prob), 3)\n",
    "\n",
    "print(f'Our model has a brier score of {our_model} and the naive model has a score of {naive_model}')"
   ]
  },
  {
   "cell_type": "code",
   "execution_count": 15,
   "metadata": {},
   "outputs": [
    {
     "name": "stdout",
     "output_type": "stream",
     "text": [
      "Our model has a auc score of 0.724 and the naive model has a score of 0.66\n"
     ]
    }
   ],
   "source": [
    "our_model = round(roc_auc_score(y_test, y_pred_prob), 3)\n",
    "naive_model = round(roc_auc_score(y_test, naive_prob), 3)\n",
    "\n",
    "print(f'Our model has a auc score of {our_model} and the naive model has a score of {naive_model}')"
   ]
  },
  {
   "cell_type": "markdown",
   "metadata": {},
   "source": [
    "Confusion Matrix"
   ]
  },
  {
   "cell_type": "code",
   "execution_count": 16,
   "metadata": {},
   "outputs": [
    {
     "name": "stdout",
     "output_type": "stream",
     "text": [
      "               precision    recall  f1-score   support\n",
      "\n",
      "breaking ball       0.60      0.52      0.56     11749\n",
      "     fastball       0.69      0.75      0.72     16442\n",
      "\n",
      "     accuracy                           0.66     28191\n",
      "    macro avg       0.64      0.64      0.64     28191\n",
      " weighted avg       0.65      0.66      0.65     28191\n",
      "\n"
     ]
    },
    {
     "data": {
      "text/plain": [
       "array([[ 6125,  5624],\n",
       "       [ 4080, 12362]], dtype=int64)"
      ]
     },
     "execution_count": 16,
     "metadata": {},
     "output_type": "execute_result"
    }
   ],
   "source": [
    "from sklearn import metrics\n",
    "from sklearn.metrics import classification_report\n",
    "\n",
    "cnf_matrix = metrics.confusion_matrix(y_test, y_pred)\n",
    "target_names = ['breaking ball', 'fastball']\n",
    "print(classification_report(y_test, y_pred, target_names=target_names))\n",
    "cnf_matrix"
   ]
  },
  {
   "cell_type": "code",
   "execution_count": 17,
   "metadata": {},
   "outputs": [],
   "source": [
    "i_cnf_matrix = np.array([[cnf_matrix[1, 1], cnf_matrix[1, 0]],\n",
    "                                [cnf_matrix[0, 1], cnf_matrix[0, 0]]])"
   ]
  },
  {
   "cell_type": "code",
   "execution_count": 18,
   "metadata": {},
   "outputs": [
    {
     "data": {
      "image/png": "[encoded data removed]",
      "text/plain": [
       "<Figure size 600x400 with 2 Axes>"
      ]
     },
     "metadata": {},
     "output_type": "display_data"
    }
   ],
   "source": [
    "labels = np.array([[\"True Positive\", \"False Negative\"],\n",
    "                   [\"False Positive\", \"True Negative\"]])\n",
    "\n",
    "plt.figure(figsize=(6, 4))\n",
    "plt.title(\"Confusion Matrix\")\n",
    "ax = sns.heatmap(i_cnf_matrix, annot=True, fmt='d', cmap='Blues', xticklabels=['Fastball', 'Breaking Ball'], yticklabels=[ 'Fastball', 'Breaking Ball']\n",
    ", annot_kws={\"size\": 14})\n",
    "plt.xlabel('Predicted Pitch')\n",
    "plt.ylabel('Actual Pitch')\n",
    "\n",
    "for i in range(2):\n",
    "    for j in range(2):\n",
    "        ax.text(j + 0.5, i + 0.25, f\"{labels[i, j]}\", color=\"black\", ha=\"center\", va=\"center\", fontsize=10, weight='bold')\n",
    "\n",
    "plt.show()"
   ]
  },
  {
   "cell_type": "markdown",
   "metadata": {},
   "source": [
    "ROC Curve"
   ]
  },
  {
   "cell_type": "code",
   "execution_count": 19,
   "metadata": {},
   "outputs": [
    {
     "data": {
      "image/png": "[encoded data removed]",
      "text/plain": [
       "<Figure size 640x480 with 1 Axes>"
      ]
     },
     "metadata": {},
     "output_type": "display_data"
    }
   ],
   "source": [
    "fpr, tpr, _ = metrics.roc_curve(y_test,  y_pred_prob)\n",
    "auc = metrics.roc_auc_score(y_test, y_pred_prob)\n",
    "plt.plot(fpr,tpr,label=\"model, auc=\"+str(round(auc, 3)))\n",
    "plt.plot([0, 1], [0, 1], 'k--', label='Random Predictor')\n",
    "plt.legend(loc=4)\n",
    "plt.title(\"ROC Curve\")\n",
    "plt.xlabel('False Positive Rate (Specificity)')\n",
    "plt.ylabel('True Positive Rate (Sensitivity)')\n",
    "plt.show()"
   ]
  },
  {
   "cell_type": "markdown",
   "metadata": {},
   "source": [
    "Calibration"
   ]
  },
  {
   "cell_type": "code",
   "execution_count": 20,
   "metadata": {},
   "outputs": [],
   "source": [
    "result_df['prob_bin'] = pd.cut(result_df['pred_prob'], np.linspace(0, 1, 11))"
   ]
  },
  {
   "cell_type": "code",
   "execution_count": 21,
   "metadata": {},
   "outputs": [
    {
     "name": "stderr",
     "output_type": "stream",
     "text": [
      "C:\\Users\\johng\\AppData\\Local\\Temp\\ipykernel_5872\\2295090214.py:1: FutureWarning: The default of observed=False is deprecated and will be changed to True in a future version of pandas. Pass observed=False to retain current behavior or observed=True to adopt the future default and silence this warning.\n",
      "  bin_summary = result_df.groupby('prob_bin').agg(\n"
     ]
    },
    {
     "data": {
      "image/png": "[encoded data removed]",
      "text/plain": [
       "<Figure size 800x600 with 1 Axes>"
      ]
     },
     "metadata": {},
     "output_type": "display_data"
    }
   ],
   "source": [
    "bin_summary = result_df.groupby('prob_bin').agg(\n",
    "    avg_pred_prob=('pred_prob', 'mean'),  \n",
    "    actual_accuracy=('pitch_type', 'mean') \n",
    ").dropna() \n",
    "plt.figure(figsize=(8, 6))\n",
    "plt.plot(bin_summary['avg_pred_prob'], bin_summary['actual_accuracy'], marker='o', linestyle='-')\n",
    "plt.plot([0, 1], [0, 1], 'k--', label='Perfect Calibration')\n",
    "\n",
    "plt.xlabel('Predicted Probability')\n",
    "plt.ylabel('Actual Accuracy')\n",
    "plt.title('Reliability Plot for Fastball Prediction')\n",
    "plt.legend()\n",
    "plt.grid()\n",
    "plt.show()"
   ]
  },
  {
   "cell_type": "code",
   "execution_count": 22,
   "metadata": {},
   "outputs": [
    {
     "data": {
      "text/html": [
       "<div>\n",
       "<style scoped>\n",
       "    .dataframe tbody tr th:only-of-type {\n",
       "        vertical-align: middle;\n",
       "    }\n",
       "\n",
       "    .dataframe tbody tr th {\n",
       "        vertical-align: top;\n",
       "    }\n",
       "\n",
       "    .dataframe thead th {\n",
       "        text-align: right;\n",
       "    }\n",
       "</style>\n",
       "<table border=\"1\" class=\"dataframe\">\n",
       "  <thead>\n",
       "    <tr style=\"text-align: right;\">\n",
       "      <th></th>\n",
       "      <th>avg_pred_prob</th>\n",
       "      <th>actual_accuracy</th>\n",
       "    </tr>\n",
       "    <tr>\n",
       "      <th>prob_bin</th>\n",
       "      <th></th>\n",
       "      <th></th>\n",
       "    </tr>\n",
       "  </thead>\n",
       "  <tbody>\n",
       "    <tr>\n",
       "      <th>(0.0, 0.1]</th>\n",
       "      <td>0.096811</td>\n",
       "      <td>0.000000</td>\n",
       "    </tr>\n",
       "    <tr>\n",
       "      <th>(0.1, 0.2]</th>\n",
       "      <td>0.141978</td>\n",
       "      <td>0.098101</td>\n",
       "    </tr>\n",
       "    <tr>\n",
       "      <th>(0.2, 0.3]</th>\n",
       "      <td>0.267041</td>\n",
       "      <td>0.332907</td>\n",
       "    </tr>\n",
       "    <tr>\n",
       "      <th>(0.3, 0.4]</th>\n",
       "      <td>0.345295</td>\n",
       "      <td>0.376917</td>\n",
       "    </tr>\n",
       "    <tr>\n",
       "      <th>(0.4, 0.5]</th>\n",
       "      <td>0.451896</td>\n",
       "      <td>0.469765</td>\n",
       "    </tr>\n",
       "    <tr>\n",
       "      <th>(0.5, 0.6]</th>\n",
       "      <td>0.550736</td>\n",
       "      <td>0.506429</td>\n",
       "    </tr>\n",
       "    <tr>\n",
       "      <th>(0.6, 0.7]</th>\n",
       "      <td>0.648745</td>\n",
       "      <td>0.624316</td>\n",
       "    </tr>\n",
       "    <tr>\n",
       "      <th>(0.7, 0.8]</th>\n",
       "      <td>0.750923</td>\n",
       "      <td>0.729612</td>\n",
       "    </tr>\n",
       "    <tr>\n",
       "      <th>(0.8, 0.9]</th>\n",
       "      <td>0.851831</td>\n",
       "      <td>0.885946</td>\n",
       "    </tr>\n",
       "    <tr>\n",
       "      <th>(0.9, 1.0]</th>\n",
       "      <td>0.926623</td>\n",
       "      <td>0.979749</td>\n",
       "    </tr>\n",
       "  </tbody>\n",
       "</table>\n",
       "</div>"
      ],
      "text/plain": [
       "            avg_pred_prob  actual_accuracy\n",
       "prob_bin                                  \n",
       "(0.0, 0.1]       0.096811         0.000000\n",
       "(0.1, 0.2]       0.141978         0.098101\n",
       "(0.2, 0.3]       0.267041         0.332907\n",
       "(0.3, 0.4]       0.345295         0.376917\n",
       "(0.4, 0.5]       0.451896         0.469765\n",
       "(0.5, 0.6]       0.550736         0.506429\n",
       "(0.6, 0.7]       0.648745         0.624316\n",
       "(0.7, 0.8]       0.750923         0.729612\n",
       "(0.8, 0.9]       0.851831         0.885946\n",
       "(0.9, 1.0]       0.926623         0.979749"
      ]
     },
     "execution_count": 22,
     "metadata": {},
     "output_type": "execute_result"
    }
   ],
   "source": [
    "bin_summary"
   ]
  },
  {
   "cell_type": "markdown",
   "metadata": {},
   "source": [
    "Final list"
   ]
  },
  {
   "cell_type": "code",
   "execution_count": 23,
   "metadata": {},
   "outputs": [],
   "source": [
    "result_df.loc[result_df['pred_pitch'] == result_df['pitch_type'], 'correct'] = 1.0\n",
    "result_df['correct'] = result_df['correct'].fillna(0.0)"
   ]
  },
  {
   "cell_type": "code",
   "execution_count": 24,
   "metadata": {},
   "outputs": [],
   "source": [
    "final_list = result_df.groupby('pitcher')['correct'].agg(['mean', 'count']).reset_index()"
   ]
  },
  {
   "cell_type": "code",
   "execution_count": 25,
   "metadata": {},
   "outputs": [],
   "source": [
    "final_list_sample = final_list.loc[final_list['count'] > 75]"
   ]
  },
  {
   "cell_type": "code",
   "execution_count": 26,
   "metadata": {},
   "outputs": [
    {
     "data": {
      "text/html": [
       "<div>\n",
       "<style scoped>\n",
       "    .dataframe tbody tr th:only-of-type {\n",
       "        vertical-align: middle;\n",
       "    }\n",
       "\n",
       "    .dataframe tbody tr th {\n",
       "        vertical-align: top;\n",
       "    }\n",
       "\n",
       "    .dataframe thead th {\n",
       "        text-align: right;\n",
       "    }\n",
       "</style>\n",
       "<table border=\"1\" class=\"dataframe\">\n",
       "  <thead>\n",
       "    <tr style=\"text-align: right;\">\n",
       "      <th></th>\n",
       "      <th>mean</th>\n",
       "    </tr>\n",
       "    <tr>\n",
       "      <th>pitcher</th>\n",
       "      <th></th>\n",
       "    </tr>\n",
       "  </thead>\n",
       "  <tbody>\n",
       "    <tr>\n",
       "      <th>Romano, Jordan</th>\n",
       "      <td>0.430928</td>\n",
       "    </tr>\n",
       "    <tr>\n",
       "      <th>Coleman, Dylan</th>\n",
       "      <td>0.465201</td>\n",
       "    </tr>\n",
       "    <tr>\n",
       "      <th>Diaz, Alexis</th>\n",
       "      <td>0.479224</td>\n",
       "    </tr>\n",
       "    <tr>\n",
       "      <th>Anderson, Nick</th>\n",
       "      <td>0.489510</td>\n",
       "    </tr>\n",
       "    <tr>\n",
       "      <th>Munoz, Andres</th>\n",
       "      <td>0.501323</td>\n",
       "    </tr>\n",
       "    <tr>\n",
       "      <th>Karinchak, James</th>\n",
       "      <td>0.508403</td>\n",
       "    </tr>\n",
       "    <tr>\n",
       "      <th>Herrin, Tim</th>\n",
       "      <td>0.514493</td>\n",
       "    </tr>\n",
       "    <tr>\n",
       "      <th>Campbell, Isaiah</th>\n",
       "      <td>0.527197</td>\n",
       "    </tr>\n",
       "    <tr>\n",
       "      <th>Brigham, Jeff</th>\n",
       "      <td>0.528571</td>\n",
       "    </tr>\n",
       "    <tr>\n",
       "      <th>Rogers, Taylor</th>\n",
       "      <td>0.531111</td>\n",
       "    </tr>\n",
       "  </tbody>\n",
       "</table>\n",
       "</div>"
      ],
      "text/plain": [
       "                      mean\n",
       "pitcher                   \n",
       "Romano, Jordan    0.430928\n",
       "Coleman, Dylan    0.465201\n",
       "Diaz, Alexis      0.479224\n",
       "Anderson, Nick    0.489510\n",
       "Munoz, Andres     0.501323\n",
       "Karinchak, James  0.508403\n",
       "Herrin, Tim       0.514493\n",
       "Campbell, Isaiah  0.527197\n",
       "Brigham, Jeff     0.528571\n",
       "Rogers, Taylor    0.531111"
      ]
     },
     "execution_count": 26,
     "metadata": {},
     "output_type": "execute_result"
    }
   ],
   "source": [
    "final_list_sample.set_index('pitcher')[['mean']].sort_values('mean').head(10)"
   ]
  },
  {
   "cell_type": "code",
   "execution_count": 27,
   "metadata": {},
   "outputs": [
    {
     "data": {
      "text/html": [
       "<div>\n",
       "<style scoped>\n",
       "    .dataframe tbody tr th:only-of-type {\n",
       "        vertical-align: middle;\n",
       "    }\n",
       "\n",
       "    .dataframe tbody tr th {\n",
       "        vertical-align: top;\n",
       "    }\n",
       "\n",
       "    .dataframe thead th {\n",
       "        text-align: right;\n",
       "    }\n",
       "</style>\n",
       "<table border=\"1\" class=\"dataframe\">\n",
       "  <thead>\n",
       "    <tr style=\"text-align: right;\">\n",
       "      <th></th>\n",
       "      <th>mean</th>\n",
       "    </tr>\n",
       "    <tr>\n",
       "      <th>pitcher</th>\n",
       "      <th></th>\n",
       "    </tr>\n",
       "  </thead>\n",
       "  <tbody>\n",
       "    <tr>\n",
       "      <th>Alvarado, Jose</th>\n",
       "      <td>0.997881</td>\n",
       "    </tr>\n",
       "    <tr>\n",
       "      <th>Hudson, Bryan</th>\n",
       "      <td>0.963415</td>\n",
       "    </tr>\n",
       "    <tr>\n",
       "      <th>Ferguson, Caleb</th>\n",
       "      <td>0.956800</td>\n",
       "    </tr>\n",
       "    <tr>\n",
       "      <th>Armstrong, Shawn</th>\n",
       "      <td>0.935574</td>\n",
       "    </tr>\n",
       "    <tr>\n",
       "      <th>Koch, Matt</th>\n",
       "      <td>0.916096</td>\n",
       "    </tr>\n",
       "    <tr>\n",
       "      <th>Adams, Austin</th>\n",
       "      <td>0.900826</td>\n",
       "    </tr>\n",
       "    <tr>\n",
       "      <th>Stratton, Hunter</th>\n",
       "      <td>0.885057</td>\n",
       "    </tr>\n",
       "    <tr>\n",
       "      <th>Jansen, Kenley</th>\n",
       "      <td>0.864458</td>\n",
       "    </tr>\n",
       "    <tr>\n",
       "      <th>Doyle, Tommy</th>\n",
       "      <td>0.863636</td>\n",
       "    </tr>\n",
       "    <tr>\n",
       "      <th>Graterol, Brusdar</th>\n",
       "      <td>0.806641</td>\n",
       "    </tr>\n",
       "  </tbody>\n",
       "</table>\n",
       "</div>"
      ],
      "text/plain": [
       "                       mean\n",
       "pitcher                    \n",
       "Alvarado, Jose     0.997881\n",
       "Hudson, Bryan      0.963415\n",
       "Ferguson, Caleb    0.956800\n",
       "Armstrong, Shawn   0.935574\n",
       "Koch, Matt         0.916096\n",
       "Adams, Austin      0.900826\n",
       "Stratton, Hunter   0.885057\n",
       "Jansen, Kenley     0.864458\n",
       "Doyle, Tommy       0.863636\n",
       "Graterol, Brusdar  0.806641"
      ]
     },
     "execution_count": 27,
     "metadata": {},
     "output_type": "execute_result"
    }
   ],
   "source": [
    "final_list_sample.set_index('pitcher')[['mean']].sort_values('mean', ascending=False).head(10)"
   ]
  },
  {
   "cell_type": "markdown",
   "metadata": {},
   "source": [
    "Making Predictions"
   ]
  },
  {
   "cell_type": "code",
   "execution_count": 28,
   "metadata": {},
   "outputs": [],
   "source": [
    "Count = '0-0'\n",
    "pitcher = 'Adcock, Ty'"
   ]
  },
  {
   "cell_type": "code",
   "execution_count": 29,
   "metadata": {},
   "outputs": [],
   "source": [
    "def create_prediction_arr(count, pitcher):\n",
    "    pred_arr = np.zeros(13)\n",
    "    pred_arr[0] = 1\n",
    "    if count == '0-1': pred_arr[1] = 1\n",
    "    if count == '0-2': pred_arr[2] = 1\n",
    "    if count == '2-1': pred_arr[3] = 1\n",
    "    if count == '1-0': pred_arr[4] = 1\n",
    "    if count == '1-1': pred_arr[5] = 1\n",
    "    if count == '1-2': pred_arr[6] = 1\n",
    "    if count == '2-0': pred_arr[7] = 1\n",
    "    if count == '2-2': pred_arr[8] = 1\n",
    "    if count == '3-1': pred_arr[9] = 1\n",
    "    if count == '3-0': pred_arr[10] = 1\n",
    "    pitcher_rate_b_count = train[train['pitcher'] == pitcher]['pitcher_fb_rate_batter_count']\n",
    "    pitcher_rate_p_count = train[train['pitcher'] == pitcher]['pitcher_fb_rate_pitcher_count']\n",
    "    if len(pitcher_rate_b_count) != 0: pred_arr[11] = pitcher_rate_b_count.iloc[0]\n",
    "    else: pred_arr[11] = 0.80\n",
    "    if len(pitcher_rate_p_count) != 0 : pred_arr[12] = pitcher_rate_p_count.iloc[0]\n",
    "    else: pred_arr[12] = 0.49\n",
    "\n",
    "    return pred_arr\n",
    "    "
   ]
  },
  {
   "cell_type": "code",
   "execution_count": 30,
   "metadata": {},
   "outputs": [],
   "source": [
    "test = create_prediction_arr(Count, pitcher)"
   ]
  },
  {
   "cell_type": "code",
   "execution_count": 31,
   "metadata": {},
   "outputs": [
    {
     "data": {
      "text/plain": [
       "array([1.        , 0.        , 0.        , 0.        , 0.        ,\n",
       "       0.        , 0.        , 0.        , 0.        , 0.        ,\n",
       "       0.        , 0.86666667, 0.94285714])"
      ]
     },
     "execution_count": 31,
     "metadata": {},
     "output_type": "execute_result"
    }
   ],
   "source": [
    "test"
   ]
  },
  {
   "cell_type": "code",
   "execution_count": 32,
   "metadata": {},
   "outputs": [
    {
     "ename": "ValueError",
     "evalue": "shapes (1,13) and (12,) not aligned: 13 (dim 1) != 12 (dim 0)",
     "output_type": "error",
     "traceback": [
      "\u001b[1;31m---------------------------------------------------------------------------\u001b[0m",
      "\u001b[1;31mValueError\u001b[0m                                Traceback (most recent call last)",
      "Cell \u001b[1;32mIn[32], line 1\u001b[0m\n\u001b[1;32m----> 1\u001b[0m \u001b[43mresult\u001b[49m\u001b[38;5;241;43m.\u001b[39;49m\u001b[43mpredict\u001b[49m\u001b[43m(\u001b[49m\u001b[43mtest\u001b[49m\u001b[43m)\u001b[49m\n",
      "File \u001b[1;32mc:\\Users\\johng\\Documents\\GitHub\\mlb-pitchers\\venv\\Lib\\site-packages\\statsmodels\\base\\model.py:1174\u001b[0m, in \u001b[0;36mResults.predict\u001b[1;34m(self, exog, transform, *args, **kwargs)\u001b[0m\n\u001b[0;32m   1127\u001b[0m \u001b[38;5;250m\u001b[39m\u001b[38;5;124;03m\"\"\"\u001b[39;00m\n\u001b[0;32m   1128\u001b[0m \u001b[38;5;124;03mCall self.model.predict with self.params as the first argument.\u001b[39;00m\n\u001b[0;32m   1129\u001b[0m \n\u001b[1;32m   (...)\u001b[0m\n\u001b[0;32m   1169\u001b[0m \u001b[38;5;124;03mreturned prediction.\u001b[39;00m\n\u001b[0;32m   1170\u001b[0m \u001b[38;5;124;03m\"\"\"\u001b[39;00m\n\u001b[0;32m   1171\u001b[0m exog, exog_index \u001b[38;5;241m=\u001b[39m \u001b[38;5;28mself\u001b[39m\u001b[38;5;241m.\u001b[39m_transform_predict_exog(exog,\n\u001b[0;32m   1172\u001b[0m                                                 transform\u001b[38;5;241m=\u001b[39mtransform)\n\u001b[1;32m-> 1174\u001b[0m predict_results \u001b[38;5;241m=\u001b[39m \u001b[38;5;28;43mself\u001b[39;49m\u001b[38;5;241;43m.\u001b[39;49m\u001b[43mmodel\u001b[49m\u001b[38;5;241;43m.\u001b[39;49m\u001b[43mpredict\u001b[49m\u001b[43m(\u001b[49m\u001b[38;5;28;43mself\u001b[39;49m\u001b[38;5;241;43m.\u001b[39;49m\u001b[43mparams\u001b[49m\u001b[43m,\u001b[49m\u001b[43m \u001b[49m\u001b[43mexog\u001b[49m\u001b[43m,\u001b[49m\u001b[43m \u001b[49m\u001b[38;5;241;43m*\u001b[39;49m\u001b[43margs\u001b[49m\u001b[43m,\u001b[49m\n\u001b[0;32m   1175\u001b[0m \u001b[43m                                     \u001b[49m\u001b[38;5;241;43m*\u001b[39;49m\u001b[38;5;241;43m*\u001b[39;49m\u001b[43mkwargs\u001b[49m\u001b[43m)\u001b[49m\n\u001b[0;32m   1177\u001b[0m \u001b[38;5;28;01mif\u001b[39;00m exog_index \u001b[38;5;129;01mis\u001b[39;00m \u001b[38;5;129;01mnot\u001b[39;00m \u001b[38;5;28;01mNone\u001b[39;00m \u001b[38;5;129;01mand\u001b[39;00m \u001b[38;5;129;01mnot\u001b[39;00m \u001b[38;5;28mhasattr\u001b[39m(predict_results,\n\u001b[0;32m   1178\u001b[0m                                           \u001b[38;5;124m'\u001b[39m\u001b[38;5;124mpredicted_values\u001b[39m\u001b[38;5;124m'\u001b[39m):\n\u001b[0;32m   1179\u001b[0m     \u001b[38;5;28;01mif\u001b[39;00m predict_results\u001b[38;5;241m.\u001b[39mndim \u001b[38;5;241m==\u001b[39m \u001b[38;5;241m1\u001b[39m:\n",
      "File \u001b[1;32mc:\\Users\\johng\\Documents\\GitHub\\mlb-pitchers\\venv\\Lib\\site-packages\\statsmodels\\discrete\\discrete_model.py:543\u001b[0m, in \u001b[0;36mBinaryModel.predict\u001b[1;34m(self, params, exog, which, linear, offset)\u001b[0m\n\u001b[0;32m    540\u001b[0m \u001b[38;5;28;01mif\u001b[39;00m exog \u001b[38;5;129;01mis\u001b[39;00m \u001b[38;5;28;01mNone\u001b[39;00m:\n\u001b[0;32m    541\u001b[0m     exog \u001b[38;5;241m=\u001b[39m \u001b[38;5;28mself\u001b[39m\u001b[38;5;241m.\u001b[39mexog\n\u001b[1;32m--> 543\u001b[0m linpred \u001b[38;5;241m=\u001b[39m \u001b[43mnp\u001b[49m\u001b[38;5;241;43m.\u001b[39;49m\u001b[43mdot\u001b[49m\u001b[43m(\u001b[49m\u001b[43mexog\u001b[49m\u001b[43m,\u001b[49m\u001b[43m \u001b[49m\u001b[43mparams\u001b[49m\u001b[43m)\u001b[49m \u001b[38;5;241m+\u001b[39m offset\n\u001b[0;32m    545\u001b[0m \u001b[38;5;28;01mif\u001b[39;00m which \u001b[38;5;241m==\u001b[39m \u001b[38;5;124m\"\u001b[39m\u001b[38;5;124mmean\u001b[39m\u001b[38;5;124m\"\u001b[39m:\n\u001b[0;32m    546\u001b[0m     \u001b[38;5;28;01mreturn\u001b[39;00m \u001b[38;5;28mself\u001b[39m\u001b[38;5;241m.\u001b[39mcdf(linpred)\n",
      "\u001b[1;31mValueError\u001b[0m: shapes (1,13) and (12,) not aligned: 13 (dim 1) != 12 (dim 0)"
     ]
    }
   ],
   "source": [
    "result.predict(test)"
   ]
  }
 ],
 "metadata": {
  "kernelspec": {
   "display_name": "venv",
   "language": "python",
   "name": "python3"
  },
  "language_info": {
   "codemirror_mode": {
    "name": "ipython",
    "version": 3
   },
   "file_extension": ".py",
   "mimetype": "text/x-python",
   "name": "python",
   "nbconvert_exporter": "python",
   "pygments_lexer": "ipython3",
   "version": "3.12.2"
  }
 },
 "nbformat": 4,
 "nbformat_minor": 2
}
