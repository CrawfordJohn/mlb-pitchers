{
 "cells": [
  {
   "cell_type": "code",
   "execution_count": 1,
   "metadata": {},
   "outputs": [],
   "source": [
    "import pandas as pd\n",
    "import numpy as np\n",
    "import datetime"
   ]
  },
  {
   "cell_type": "markdown",
   "metadata": {},
   "source": [
    "Load Raw Data, Scores Data, and on Base Data for Each Year"
   ]
  },
  {
   "cell_type": "code",
   "execution_count": 2,
   "metadata": {},
   "outputs": [],
   "source": [
    "pitchers_23 = pd.read_csv('data/pitches_23.csv')\n",
    "pitchers_23['year'] = 2023\n",
    "pitchers_22 = pd.read_csv('data/pitches_22.csv')\n",
    "pitchers_22['year'] = 2022\n",
    "pitchers_21 = pd.read_csv('data/pitches_21.csv')\n",
    "pitchers_21['year'] = 2021\n",
    "\n",
    "pitchers = pd.concat([pitchers_23, pitchers_22, pitchers_21])"
   ]
  },
  {
   "cell_type": "code",
   "execution_count": 3,
   "metadata": {},
   "outputs": [],
   "source": [
    "score_21 = pd.read_csv('data/gameid_ab_score_21.csv')\n",
    "score_21['year'] = 2021\n",
    "score_22 = pd.read_csv('data/gameid_ab_score_22.csv')\n",
    "score_22['year'] = 2022\n",
    "score_23 = pd.read_csv('data/gameid_ab_score_23.csv')\n",
    "score_23['year'] = 2023\n",
    "\n",
    "scores = pd.concat([score_21, score_22, score_23])"
   ]
  },
  {
   "cell_type": "code",
   "execution_count": 4,
   "metadata": {},
   "outputs": [],
   "source": [
    "on_base_21 = pd.read_csv('data/pitch_data_2021.csv')\n",
    "on_base_21['year'] = 2021\n",
    "on_base_22 = pd.read_csv('data/pitch_data_2022.csv')\n",
    "on_base_22['year'] = 2022\n",
    "on_base_23 = pd.read_csv('data/pitch_data_2023.csv')\n",
    "on_base_23['year'] = 2023\n",
    "\n",
    "on_base = pd.concat([on_base_21, on_base_22, on_base_23])"
   ]
  },
  {
   "cell_type": "markdown",
   "metadata": {},
   "source": [
    "Subset Data to only include pitchers of interest"
   ]
  },
  {
   "cell_type": "code",
   "execution_count": 5,
   "metadata": {},
   "outputs": [],
   "source": [
    "pitchers_to_keep = pd.read_csv('data/pitcher_list.csv') #pitcher subset list from David's Subset2.R\n",
    "pitcher_subset = pitchers[pitchers['pitcher'].isin(pitchers_to_keep['pitcher'].values)]"
   ]
  },
  {
   "cell_type": "markdown",
   "metadata": {},
   "source": [
    "Combine all Datasets on GameId, AB, and Year"
   ]
  },
  {
   "cell_type": "code",
   "execution_count": 6,
   "metadata": {},
   "outputs": [],
   "source": [
    "merged_scores = pd.merge(pitcher_subset, scores, on = ['gameid', 'ab', 'year'], how='left')\n",
    "merged_scores[['visscore', 'homscore']] = merged_scores[['visscore', 'homscore']].ffill() #front fill na values (assumes score hasn't changed)\n",
    "final_dataset = pd.merge(merged_scores, on_base, on = ['gameid', 'ab', 'year', 'pitchnum'], how='left')\n",
    "final_dataset = final_dataset.drop(['Unnamed: 0_x', 'GameDate_y', 'Unnamed: 0_y'], axis = 1).rename({'GameDate_x':'GameDate'}, axis = 1)"
   ]
  },
  {
   "cell_type": "markdown",
   "metadata": {},
   "source": [
    "Create Pitch Type Column (Fastball or Breaking Ball)"
   ]
  },
  {
   "cell_type": "code",
   "execution_count": 7,
   "metadata": {},
   "outputs": [],
   "source": [
    "pitch_mapping = {\n",
    "    \"Four-seam FB\": \"Fastball\",\n",
    "    \"Cutter\": \"Fastball\",\n",
    "    \"Sinker\": \"Fastball\",\n",
    "    \"Fastball\": \"Fastball\",\n",
    "    \"Two-seam FB\": \"Fastball\",\n",
    "    \n",
    "    \"Knuckle Curve\": \"Breaking Ball\",\n",
    "    \"Slow Curve\": \"Breaking Ball\",\n",
    "    \"Sweeper\": \"Breaking Ball\",\n",
    "    \"Slider\": \"Breaking Ball\",\n",
    "    \"Curveball\": \"Breaking Ball\"\n",
    "}\n",
    "final_dataset['pitch_type'] = final_dataset['pitchname_desc'].map(pitch_mapping)"
   ]
  },
  {
   "cell_type": "code",
   "execution_count": 8,
   "metadata": {},
   "outputs": [],
   "source": [
    "final_dataset.to_csv('pitcher_subset.csv', index=False)"
   ]
  }
 ],
 "metadata": {
  "kernelspec": {
   "display_name": "venv",
   "language": "python",
   "name": "python3"
  },
  "language_info": {
   "codemirror_mode": {
    "name": "ipython",
    "version": 3
   },
   "file_extension": ".py",
   "mimetype": "text/x-python",
   "name": "python",
   "nbconvert_exporter": "python",
   "pygments_lexer": "ipython3",
   "version": "3.12.2"
  }
 },
 "nbformat": 4,
 "nbformat_minor": 2
}
