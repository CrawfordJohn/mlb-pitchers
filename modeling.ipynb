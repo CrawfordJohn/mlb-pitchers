{
 "cells": [
  {
   "cell_type": "code",
   "execution_count": 3,
   "metadata": {},
   "outputs": [],
   "source": [
    "import pandas as pd\n",
    "import numpy as np\n",
    "import statsmodels.api as sm\n",
    "from sklearn.metrics import roc_auc_score, brier_score_loss\n",
    "import seaborn as sns\n",
    "import matplotlib.pyplot as plt\n",
    "import datetime as datetime"
   ]
  },
  {
   "cell_type": "code",
   "execution_count": 4,
   "metadata": {},
   "outputs": [],
   "source": [
    "data = pd.read_csv('data/model_data.csv')"
   ]
  },
  {
   "cell_type": "markdown",
   "metadata": {},
   "source": [
    "# Modeling"
   ]
  },
  {
   "cell_type": "markdown",
   "metadata": {},
   "source": [
    "Feature Selection"
   ]
  },
  {
   "cell_type": "code",
   "execution_count": 6,
   "metadata": {},
   "outputs": [],
   "source": [
    "log_reg_df = data[['pitch_type', 'GameDate', 'pitcher', 'batter', 'ab', 'pitchnum', \n",
    "       'Count_0_1', 'Count_0_2', 'Count_2_1',\n",
    "       'Count_1_0', 'Count_1_1', 'Count_1_2', 'Count_2_0', 'Count_2_2', 'Count_3_1',\n",
    "       'Count_3_0', 'batter_count', 'pitcher_count']].copy()\n",
    "\n",
    "log_reg_df['neutral_count'] = ((log_reg_df['batter_count'] == 0) & (log_reg_df['pitcher_count']== 0)).astype(int)"
   ]
  },
  {
   "cell_type": "markdown",
   "metadata": {},
   "source": [
    "Player-Specific Features and train/test split"
   ]
  },
  {
   "cell_type": "code",
   "execution_count": 8,
   "metadata": {},
   "outputs": [],
   "source": [
    "train = log_reg_df[log_reg_df['GameDate'] < '2023-06-15'] #~81% of data before this date\n",
    "\n",
    "historical_rates = train.copy()\n",
    "\n",
    "#calculation for naive model to compare\n",
    "naive_historical_rates = historical_rates.groupby(['pitcher'])['pitch_type'].agg(['sum', 'count']).reset_index()\n",
    "naive_historical_rates['naive_historical_rate'] = naive_historical_rates['sum'] / naive_historical_rates['count']\n",
    "naive_historical_rates = naive_historical_rates.drop(['count', 'sum'], axis=1)\n",
    "\n",
    "#Pitcher Fastball rate when up in count\n",
    "pitcher_fb_rate_batter_count = historical_rates[historical_rates['batter_count'] == 1.0].groupby('pitcher')['pitch_type'].agg(['sum', 'count']).reset_index()\n",
    "pitcher_fb_rate_batter_count['sum'] += 80/4 #beta binomial with B(80/4, 25) as prior (to pull rates closer to mean of 80%)\n",
    "pitcher_fb_rate_batter_count['count'] += 100/4\n",
    "pitcher_fb_rate_batter_count = pitcher_fb_rate_batter_count.rename({'sum':'b_sum', 'count':'b_count'}, axis=1)\n",
    "pitcher_fb_rate_batter_count['pitcher_fb_rate_batter_count'] = pitcher_fb_rate_batter_count['b_sum'] / pitcher_fb_rate_batter_count['b_count']\n",
    "\n",
    "#Pitcher Fastball rate when down in count\n",
    "pitcher_fb_rate_pitcher_count = historical_rates[historical_rates['pitcher_count'] == 1.0].groupby('pitcher')['pitch_type'].agg(['sum', 'count']).reset_index()\n",
    "pitcher_fb_rate_pitcher_count['sum'] += 49/4 #beta binomial with B(49/4, 25) as prior (to pull rates closer to mean of 49%)\n",
    "pitcher_fb_rate_pitcher_count['count'] += 100/4\n",
    "pitcher_fb_rate_pitcher_count = pitcher_fb_rate_pitcher_count.rename({'sum':'p_sum', 'count':'p_count'}, axis=1)\n",
    "pitcher_fb_rate_pitcher_count['pitcher_fb_rate_pitcher_count'] = pitcher_fb_rate_pitcher_count['p_sum'] / pitcher_fb_rate_pitcher_count['p_count']\n",
    "\n",
    "\n",
    "train = pd.merge(train, pitcher_fb_rate_batter_count, on ='pitcher')\n",
    "train = pd.merge(train, pitcher_fb_rate_pitcher_count, on ='pitcher')\n",
    "train = pd.merge(train, naive_historical_rates, on ='pitcher')\n",
    "\n",
    "#Batter Fastball rate when up in count\n",
    "batter_fb_rate_batter_count = historical_rates[historical_rates['batter_count'] == 1.0].groupby('batter')['pitch_type'].agg(['count', 'sum']).reset_index()\n",
    "batter_fb_rate_batter_count['sum'] += 80/4\n",
    "batter_fb_rate_batter_count['count'] += 100/4\n",
    "batter_fb_rate_batter_count = batter_fb_rate_batter_count.rename({'sum':'bat_b_sum', 'count':'bat_b_count'}, axis=1)\n",
    "batter_fb_rate_batter_count['batter_fb_rate_batter_count'] = batter_fb_rate_batter_count['bat_b_sum'] / batter_fb_rate_batter_count['bat_b_count']\n",
    "\n",
    "#Batter Fastball rate when down in count\n",
    "batter_fb_rate_pitcher_count = historical_rates[historical_rates['pitcher_count'] == 1.0].groupby('batter')['pitch_type'].agg(['count', 'sum']).reset_index()\n",
    "batter_fb_rate_pitcher_count['sum'] += 49/4\n",
    "batter_fb_rate_pitcher_count['count'] += 100/4\n",
    "batter_fb_rate_pitcher_count = batter_fb_rate_pitcher_count.rename({'sum':'bat_p_sum', 'count':'bat_p_count'}, axis=1)\n",
    "batter_fb_rate_pitcher_count['batter_fb_rate_pitcher_count'] = batter_fb_rate_pitcher_count['bat_p_sum'] / batter_fb_rate_pitcher_count['bat_p_count']\n",
    "\n",
    "train = pd.merge(train, batter_fb_rate_batter_count, on = 'batter')\n",
    "train = pd.merge(train, batter_fb_rate_pitcher_count, on = 'batter')\n",
    "\n",
    "#drop all non-used columns that aren't the counts (need to pass these to test to dynamically update historical rates)\n",
    "X_train = train.drop(['pitch_type', 'GameDate', 'batter', 'pitcher', 'b_count', 'b_sum', 'ab', 'pitchnum', 'naive_historical_rate', 'batter_count', 'pitcher_count',\n",
    "                      'neutral_count', 'bat_b_sum', 'bat_b_count', 'p_count', 'p_sum', 'bat_p_sum', 'bat_p_count'], axis=1)\n",
    "feature_names = X_train.columns\n",
    "y_train = train[['pitch_type']]"
   ]
  },
  {
   "cell_type": "code",
   "execution_count": 10,
   "metadata": {},
   "outputs": [],
   "source": [
    "test = log_reg_df[log_reg_df['GameDate'] >= '2023-06-15'] #~19% of data after this date\n",
    "\n",
    "#join with test data to provide prior before updating rates as pitches come in\n",
    "test= pd.merge(test, naive_historical_rates, on ='pitcher', how='left')\n",
    "test= pd.merge(test, pitcher_fb_rate_batter_count, on ='pitcher', how='left')\n",
    "test= pd.merge(test, pitcher_fb_rate_pitcher_count, on ='pitcher', how='left')\n",
    "test= pd.merge(test, batter_fb_rate_batter_count, on ='batter', how='left')\n",
    "test= pd.merge(test, batter_fb_rate_pitcher_count, on ='batter', how='left')\n",
    "\n",
    "#fill pitchers who don't have any data in the train set with averages \n",
    "test[['b_count',  'bat_b_count', 'bat_p_count', 'p_count']] = test[['b_count',  'bat_b_count', 'bat_p_count', 'p_count']].fillna(100/4)\n",
    "test[['bat_p_sum', 'p_sum']] = test[['bat_p_sum', 'p_sum']].fillna(49/4)\n",
    "test[['b_sum','bat_b_sum']] = test[['b_sum','bat_b_sum']].fillna(80/4)\n",
    "test = test.sort_values(['pitcher', 'GameDate', 'ab', 'pitchnum'])\n",
    "\n",
    "#create cummalative counts to update rates as data comes in \n",
    "# (The way in which these counts were calculated does not accomplish what I intended it to do, this was fixed in updated_modeling.ipynb but was done last minute so didn't have time to update papers and such)\n",
    "test['b_cumcount'] = test.groupby(['pitcher', 'batter_count']).cumcount() + 1\n",
    "test['b_cumsum'] = test.groupby(['pitcher', 'batter_count'])['pitch_type'].cumsum()\n",
    "\n",
    "\n",
    "test['p_cumcount'] = test.groupby(['pitcher', 'pitcher_count']).cumcount() + 1\n",
    "test['p_cumsum'] = test.groupby(['pitcher', 'pitcher_count'])['pitch_type'].cumsum()\n",
    "\n",
    "test['bat_b_cumcount'] = test.groupby(['batter', 'batter_count']).cumcount() + 1\n",
    "test['bat_b_cumsum'] = test.groupby(['batter', 'batter_count'])['pitch_type'].cumsum()\n",
    "\n",
    "test['bat_p_cumcount'] = test.groupby(['batter', 'pitcher_count']).cumcount() + 1\n",
    "test['bat_p_cumsum'] = test.groupby(['batter', 'pitcher_count'])['pitch_type'].cumsum()\n",
    "\n",
    "test['pitcher_fb_rate_batter_count'] = (test['b_cumsum'] + test['b_sum']) / (test['b_count'] + test['b_cumcount'])\n",
    "test['pitcher_fb_rate_pitcher_count'] = (test['p_cumsum'] + test['p_sum']) / (test['p_count'] + test['p_cumcount'])\n",
    "test['batter_fb_rate_batter_count'] = (test['bat_b_cumsum'] + test['bat_b_sum']) / (test['bat_b_count'] + test['bat_b_cumcount'])\n",
    "test['batter_fb_rate_pitcher_count'] = (test['bat_p_cumsum'] + test['bat_p_sum']) / (test['bat_p_count'] + test['bat_p_cumcount'])\n",
    "\n",
    "X_test = test.drop(['pitch_type', 'GameDate', 'batter', 'pitcher', 'b_count', 'b_sum', 'b_cumsum', 'b_cumcount', \n",
    "                     'bat_b_cumsum', 'bat_b_cumcount', 'bat_b_sum', 'bat_b_count', 'p_count', 'p_sum', 'p_cumsum', 'p_cumcount',\n",
    "                    'ab', 'pitchnum', 'naive_historical_rate', 'batter_count', 'neutral_count', 'pitcher_count', 'bat_p_sum', 'bat_p_count',\n",
    "                    'bat_p_cumcount', 'bat_p_cumsum'\n",
    "                    ], axis=1)\n",
    "y_test = test[['pitch_type']]"
   ]
  },
  {
   "cell_type": "code",
   "execution_count": 25,
   "metadata": {},
   "outputs": [
    {
     "data": {
      "text/plain": [
       "Index(['pitch_type', 'GameDate', 'pitcher', 'batter', 'ab', 'pitchnum',\n",
       "       'Count_0_1', 'Count_0_2', 'Count_2_1', 'Count_1_0', 'Count_1_1',\n",
       "       'Count_1_2', 'Count_2_0', 'Count_2_2', 'Count_3_1', 'Count_3_0',\n",
       "       'batter_count', 'pitcher_count', 'neutral_count',\n",
       "       'naive_historical_rate', 'b_sum', 'b_count',\n",
       "       'pitcher_fb_rate_batter_count', 'p_sum', 'p_count',\n",
       "       'pitcher_fb_rate_pitcher_count', 'bat_b_count', 'bat_b_sum',\n",
       "       'batter_fb_rate_batter_count', 'bat_p_count', 'bat_p_sum',\n",
       "       'batter_fb_rate_pitcher_count', 'b_cumcount', 'b_cumsum', 'p_cumcount',\n",
       "       'p_cumsum', 'bat_b_cumcount', 'bat_b_cumsum', 'bat_p_cumcount',\n",
       "       'bat_p_cumsum'],\n",
       "      dtype='object')"
      ]
     },
     "execution_count": 25,
     "metadata": {},
     "output_type": "execute_result"
    }
   ],
   "source": [
    "test.columns"
   ]
  },
  {
   "cell_type": "code",
   "execution_count": 258,
   "metadata": {},
   "outputs": [],
   "source": [
    "train.to_csv('train_data.csv', index=False)\n",
    "test.to_csv('test_data.csv', index=False)"
   ]
  },
  {
   "cell_type": "markdown",
   "metadata": {},
   "source": [
    "Train Lin Reg Model and make prediction on Test set (and create naive predictions)"
   ]
  },
  {
   "cell_type": "code",
   "execution_count": 12,
   "metadata": {},
   "outputs": [
    {
     "name": "stdout",
     "output_type": "stream",
     "text": [
      "Optimization terminated successfully.\n",
      "         Current function value: 0.600122\n",
      "         Iterations 7\n",
      "                           Logit Regression Results                           \n",
      "==============================================================================\n",
      "Dep. Variable:             pitch_type   No. Observations:               117243\n",
      "Model:                          Logit   Df Residuals:                   117228\n",
      "Method:                           MLE   Df Model:                           14\n",
      "Date:                Mon, 02 Dec 2024   Pseudo R-squ.:                  0.1136\n",
      "Time:                        10:10:02   Log-Likelihood:                -70360.\n",
      "converged:                       True   LL-Null:                       -79377.\n",
      "Covariance Type:            nonrobust   LLR p-value:                     0.000\n",
      "=================================================================================================\n",
      "                                    coef    std err          z      P>|z|      [0.025      0.975]\n",
      "-------------------------------------------------------------------------------------------------\n",
      "const                            -5.2686      0.128    -41.263      0.000      -5.519      -5.018\n",
      "Count_0_1                        -0.2525      0.021    -11.940      0.000      -0.294      -0.211\n",
      "Count_0_2                        -0.6062      0.026    -23.148      0.000      -0.658      -0.555\n",
      "Count_2_1                         0.2272      0.031      7.387      0.000       0.167       0.288\n",
      "Count_1_0                         0.2445      0.024     10.360      0.000       0.198       0.291\n",
      "Count_1_1                        -0.2203      0.023     -9.530      0.000      -0.266      -0.175\n",
      "Count_1_2                        -0.5840      0.023    -25.252      0.000      -0.629      -0.539\n",
      "Count_2_0                         0.8211      0.040     20.538      0.000       0.743       0.899\n",
      "Count_2_2                        -0.4160      0.025    -16.926      0.000      -0.464      -0.368\n",
      "Count_3_1                         1.1303      0.053     21.493      0.000       1.027       1.233\n",
      "Count_3_0                         2.7379      0.127     21.635      0.000       2.490       2.986\n",
      "pitcher_fb_rate_batter_count      2.4779      0.057     43.228      0.000       2.366       2.590\n",
      "pitcher_fb_rate_pitcher_count     3.2650      0.054     60.225      0.000       3.159       3.371\n",
      "batter_fb_rate_batter_count       1.2050      0.134      8.966      0.000       0.942       1.468\n",
      "batter_fb_rate_pitcher_count      2.4367      0.130     18.745      0.000       2.182       2.691\n",
      "=================================================================================================\n"
     ]
    }
   ],
   "source": [
    "X_train = sm.add_constant(X_train)\n",
    "X_test = sm.add_constant(X_test)\n",
    "\n",
    "\n",
    "# Create and fit the logistic regression model\n",
    "model = sm.Logit(y_train, X_train)\n",
    "result = model.fit()\n",
    "\n",
    "print(result.summary())\n",
    "# Predict on the test set\n",
    "y_plot = result.predict(X_train)\n",
    "y_pred_prob = result.predict(X_test)\n",
    "y_train_pred = (y_plot >= 0.5).astype(int)\n",
    "y_pred = (y_pred_prob >= 0.5).astype(int)\n",
    "\n",
    "naive_prob = test['naive_historical_rate'].values\n",
    "naive_prob[np.isnan(naive_prob)] = np.nanmean(naive_prob)\n",
    "y_pred_naive = (naive_prob >= 0.5).astype(int)"
   ]
  },
  {
   "cell_type": "markdown",
   "metadata": {},
   "source": [
    "# Model Evaluation / Results"
   ]
  },
  {
   "cell_type": "code",
   "execution_count": 13,
   "metadata": {},
   "outputs": [],
   "source": [
    "result_df = pd.concat([test['pitcher'], X_test, pd.Series(y_pred), y_test], axis=1)\n",
    "result_df = result_df.rename({0:'pred_pitch'}, axis=1)\n",
    "result_df['pred_prob'] = y_pred_prob"
   ]
  },
  {
   "cell_type": "markdown",
   "metadata": {},
   "source": [
    "Scores"
   ]
  },
  {
   "cell_type": "code",
   "execution_count": 14,
   "metadata": {},
   "outputs": [
    {
     "name": "stdout",
     "output_type": "stream",
     "text": [
      "Our model has a brier score of 0.2074 and the naive model has a score of 0.222\n"
     ]
    }
   ],
   "source": [
    "our_model = round(brier_score_loss(y_test, y_pred_prob), 4)\n",
    "naive_model = round(brier_score_loss(y_test, naive_prob), 3)\n",
    "\n",
    "print(f'Our model has a brier score of {our_model} and the naive model has a score of {naive_model}')"
   ]
  },
  {
   "cell_type": "code",
   "execution_count": 15,
   "metadata": {},
   "outputs": [
    {
     "name": "stdout",
     "output_type": "stream",
     "text": [
      "Our model has a auc score of 0.731 and the naive model has a score of 0.66\n"
     ]
    }
   ],
   "source": [
    "our_model = round(roc_auc_score(y_test, y_pred_prob), 3)\n",
    "naive_model = round(roc_auc_score(y_test, naive_prob), 3)\n",
    "\n",
    "print(f'Our model has a auc score of {our_model} and the naive model has a score of {naive_model}')"
   ]
  },
  {
   "cell_type": "markdown",
   "metadata": {},
   "source": [
    "Confusion Matrix"
   ]
  },
  {
   "cell_type": "code",
   "execution_count": 16,
   "metadata": {},
   "outputs": [
    {
     "name": "stdout",
     "output_type": "stream",
     "text": [
      "               precision    recall  f1-score   support\n",
      "\n",
      "breaking ball       0.58      0.68      0.63     11749\n",
      "     fastball       0.74      0.65      0.69     16442\n",
      "\n",
      "     accuracy                           0.66     28191\n",
      "    macro avg       0.66      0.67      0.66     28191\n",
      " weighted avg       0.67      0.66      0.67     28191\n",
      "\n"
     ]
    },
    {
     "data": {
      "text/plain": [
       "array([[ 8018,  3731],\n",
       "       [ 5763, 10679]], dtype=int64)"
      ]
     },
     "execution_count": 16,
     "metadata": {},
     "output_type": "execute_result"
    }
   ],
   "source": [
    "from sklearn import metrics\n",
    "from sklearn.metrics import classification_report\n",
    "\n",
    "cnf_matrix = metrics.confusion_matrix(y_test, y_pred)\n",
    "target_names = ['breaking ball', 'fastball']\n",
    "print(classification_report(y_test, y_pred, target_names=target_names))\n",
    "cnf_matrix"
   ]
  },
  {
   "cell_type": "code",
   "execution_count": 17,
   "metadata": {},
   "outputs": [
    {
     "data": {
      "image/png": "[encoded data removed]",
      "text/plain": [
       "<Figure size 640x480 with 2 Axes>"
      ]
     },
     "metadata": {},
     "output_type": "display_data"
    }
   ],
   "source": [
    "plt.title(\"Confusion Matrix\")\n",
    "sns.heatmap(cnf_matrix, annot=True, fmt='d', cmap='Blues', xticklabels=['Breaking Ball', 'Fastball'], yticklabels=['Breaking Ball', 'Fastball'])\n",
    "plt.xlabel('Predicted Pitch')\n",
    "plt.ylabel('Actual Pitch')\n",
    "plt.show()"
   ]
  },
  {
   "cell_type": "markdown",
   "metadata": {},
   "source": [
    "ROC Curve"
   ]
  },
  {
   "cell_type": "code",
   "execution_count": 18,
   "metadata": {},
   "outputs": [
    {
     "data": {
      "image/png": "[encoded data removed]",
      "text/plain": [
       "<Figure size 640x480 with 1 Axes>"
      ]
     },
     "metadata": {},
     "output_type": "display_data"
    }
   ],
   "source": [
    "fpr, tpr, _ = metrics.roc_curve(y_test,  y_pred_prob)\n",
    "auc = metrics.roc_auc_score(y_test, y_pred_prob)\n",
    "plt.plot(fpr,tpr,label=\"model, auc=\"+str(round(auc, 3)))\n",
    "plt.plot([0, 1], [0, 1], 'k--', label='Random Predictor')\n",
    "plt.legend(loc=4)\n",
    "plt.title(\"ROC Curve\")\n",
    "plt.xlabel('False Positive Rate (Specificity)')\n",
    "plt.ylabel('True Positive Rate (Sensitivity)')\n",
    "plt.show()"
   ]
  },
  {
   "cell_type": "markdown",
   "metadata": {},
   "source": [
    "Calibration"
   ]
  },
  {
   "cell_type": "code",
   "execution_count": 19,
   "metadata": {},
   "outputs": [],
   "source": [
    "result_df['prob_bin'] = pd.cut(result_df['pred_prob'], np.linspace(0, 1, 11))"
   ]
  },
  {
   "cell_type": "code",
   "execution_count": 20,
   "metadata": {},
   "outputs": [
    {
     "name": "stderr",
     "output_type": "stream",
     "text": [
      "C:\\Users\\johng\\AppData\\Local\\Temp\\ipykernel_32940\\2295090214.py:1: FutureWarning: The default of observed=False is deprecated and will be changed to True in a future version of pandas. Pass observed=False to retain current behavior or observed=True to adopt the future default and silence this warning.\n",
      "  bin_summary = result_df.groupby('prob_bin').agg(\n"
     ]
    },
    {
     "data": {
      "image/png": "[encoded data removed]",
      "text/plain": [
       "<Figure size 800x600 with 1 Axes>"
      ]
     },
     "metadata": {},
     "output_type": "display_data"
    }
   ],
   "source": [
    "bin_summary = result_df.groupby('prob_bin').agg(\n",
    "    avg_pred_prob=('pred_prob', 'mean'),  \n",
    "    actual_accuracy=('pitch_type', 'mean') \n",
    ").dropna() \n",
    "plt.figure(figsize=(8, 6))\n",
    "plt.plot(bin_summary['avg_pred_prob'], bin_summary['actual_accuracy'], marker='o', linestyle='-')\n",
    "plt.plot([0, 1], [0, 1], 'k--', label='Perfect Calibration')\n",
    "\n",
    "plt.xlabel('Predicted Probability')\n",
    "plt.ylabel('Actual Accuracy')\n",
    "plt.title('Reliability Plot for Fastball Prediction')\n",
    "plt.legend()\n",
    "plt.grid()\n",
    "plt.show()"
   ]
  },
  {
   "cell_type": "code",
   "execution_count": null,
   "metadata": {},
   "outputs": [
    {
     "data": {
      "text/html": [
       "<div>\n",
       "<style scoped>\n",
       "    .dataframe tbody tr th:only-of-type {\n",
       "        vertical-align: middle;\n",
       "    }\n",
       "\n",
       "    .dataframe tbody tr th {\n",
       "        vertical-align: top;\n",
       "    }\n",
       "\n",
       "    .dataframe thead th {\n",
       "        text-align: right;\n",
       "    }\n",
       "</style>\n",
       "<table border=\"1\" class=\"dataframe\">\n",
       "  <thead>\n",
       "    <tr style=\"text-align: right;\">\n",
       "      <th></th>\n",
       "      <th>avg_pred_prob</th>\n",
       "      <th>actual_accuracy</th>\n",
       "    </tr>\n",
       "    <tr>\n",
       "      <th>prob_bin</th>\n",
       "      <th></th>\n",
       "      <th></th>\n",
       "    </tr>\n",
       "  </thead>\n",
       "  <tbody>\n",
       "    <tr>\n",
       "      <th>(0.0, 0.1]</th>\n",
       "      <td>0.585124</td>\n",
       "      <td>0.579545</td>\n",
       "    </tr>\n",
       "    <tr>\n",
       "      <th>(0.1, 0.2]</th>\n",
       "      <td>0.582798</td>\n",
       "      <td>0.601423</td>\n",
       "    </tr>\n",
       "    <tr>\n",
       "      <th>(0.2, 0.3]</th>\n",
       "      <td>0.575791</td>\n",
       "      <td>0.598244</td>\n",
       "    </tr>\n",
       "    <tr>\n",
       "      <th>(0.3, 0.4]</th>\n",
       "      <td>0.565819</td>\n",
       "      <td>0.584771</td>\n",
       "    </tr>\n",
       "    <tr>\n",
       "      <th>(0.4, 0.5]</th>\n",
       "      <td>0.562754</td>\n",
       "      <td>0.589054</td>\n",
       "    </tr>\n",
       "    <tr>\n",
       "      <th>(0.5, 0.6]</th>\n",
       "      <td>0.554746</td>\n",
       "      <td>0.586375</td>\n",
       "    </tr>\n",
       "    <tr>\n",
       "      <th>(0.6, 0.7]</th>\n",
       "      <td>0.561039</td>\n",
       "      <td>0.590816</td>\n",
       "    </tr>\n",
       "    <tr>\n",
       "      <th>(0.7, 0.8]</th>\n",
       "      <td>0.547713</td>\n",
       "      <td>0.568994</td>\n",
       "    </tr>\n",
       "    <tr>\n",
       "      <th>(0.8, 0.9]</th>\n",
       "      <td>0.545670</td>\n",
       "      <td>0.569759</td>\n",
       "    </tr>\n",
       "    <tr>\n",
       "      <th>(0.9, 1.0]</th>\n",
       "      <td>0.546513</td>\n",
       "      <td>0.566884</td>\n",
       "    </tr>\n",
       "  </tbody>\n",
       "</table>\n",
       "</div>"
      ],
      "text/plain": [
       "            avg_pred_prob  actual_accuracy\n",
       "prob_bin                                  \n",
       "(0.0, 0.1]       0.585124         0.579545\n",
       "(0.1, 0.2]       0.582798         0.601423\n",
       "(0.2, 0.3]       0.575791         0.598244\n",
       "(0.3, 0.4]       0.565819         0.584771\n",
       "(0.4, 0.5]       0.562754         0.589054\n",
       "(0.5, 0.6]       0.554746         0.586375\n",
       "(0.6, 0.7]       0.561039         0.590816\n",
       "(0.7, 0.8]       0.547713         0.568994\n",
       "(0.8, 0.9]       0.545670         0.569759\n",
       "(0.9, 1.0]       0.546513         0.566884"
      ]
     },
     "execution_count": 232,
     "metadata": {},
     "output_type": "execute_result"
    }
   ],
   "source": [
    "bin_summary"
   ]
  },
  {
   "cell_type": "markdown",
   "metadata": {},
   "source": [
    "Final list"
   ]
  },
  {
   "cell_type": "code",
   "execution_count": 285,
   "metadata": {},
   "outputs": [],
   "source": [
    "result_df.loc[result_df['pred_pitch'] == result_df['pitch_type'], 'correct'] = 1.0\n",
    "result_df['correct'] = result_df['correct'].fillna(0.0)"
   ]
  },
  {
   "cell_type": "code",
   "execution_count": 21,
   "metadata": {},
   "outputs": [
    {
     "data": {
      "text/html": [
       "<div>\n",
       "<style scoped>\n",
       "    .dataframe tbody tr th:only-of-type {\n",
       "        vertical-align: middle;\n",
       "    }\n",
       "\n",
       "    .dataframe tbody tr th {\n",
       "        vertical-align: top;\n",
       "    }\n",
       "\n",
       "    .dataframe thead th {\n",
       "        text-align: right;\n",
       "    }\n",
       "</style>\n",
       "<table border=\"1\" class=\"dataframe\">\n",
       "  <thead>\n",
       "    <tr style=\"text-align: right;\">\n",
       "      <th></th>\n",
       "      <th>pitcher</th>\n",
       "      <th>const</th>\n",
       "      <th>Count_0_1</th>\n",
       "      <th>Count_0_2</th>\n",
       "      <th>Count_2_1</th>\n",
       "      <th>Count_1_0</th>\n",
       "      <th>Count_1_1</th>\n",
       "      <th>Count_1_2</th>\n",
       "      <th>Count_2_0</th>\n",
       "      <th>Count_2_2</th>\n",
       "      <th>Count_3_1</th>\n",
       "      <th>Count_3_0</th>\n",
       "      <th>pitcher_fb_rate_batter_count</th>\n",
       "      <th>pitcher_fb_rate_pitcher_count</th>\n",
       "      <th>batter_fb_rate_batter_count</th>\n",
       "      <th>batter_fb_rate_pitcher_count</th>\n",
       "      <th>pred_pitch</th>\n",
       "      <th>pitch_type</th>\n",
       "      <th>pred_prob</th>\n",
       "      <th>prob_bin</th>\n",
       "    </tr>\n",
       "  </thead>\n",
       "  <tbody>\n",
       "    <tr>\n",
       "      <th>227</th>\n",
       "      <td>Abreu, Bryan</td>\n",
       "      <td>1.0</td>\n",
       "      <td>0</td>\n",
       "      <td>0</td>\n",
       "      <td>0</td>\n",
       "      <td>0</td>\n",
       "      <td>0</td>\n",
       "      <td>0</td>\n",
       "      <td>0</td>\n",
       "      <td>0</td>\n",
       "      <td>0</td>\n",
       "      <td>0</td>\n",
       "      <td>0.659292</td>\n",
       "      <td>0.357818</td>\n",
       "      <td>0.804348</td>\n",
       "      <td>0.485294</td>\n",
       "      <td>0</td>\n",
       "      <td>0</td>\n",
       "      <td>0.421893</td>\n",
       "      <td>(0.4, 0.5]</td>\n",
       "    </tr>\n",
       "    <tr>\n",
       "      <th>228</th>\n",
       "      <td>Abreu, Bryan</td>\n",
       "      <td>1.0</td>\n",
       "      <td>1</td>\n",
       "      <td>0</td>\n",
       "      <td>0</td>\n",
       "      <td>0</td>\n",
       "      <td>0</td>\n",
       "      <td>0</td>\n",
       "      <td>0</td>\n",
       "      <td>0</td>\n",
       "      <td>0</td>\n",
       "      <td>0</td>\n",
       "      <td>0.656388</td>\n",
       "      <td>0.357204</td>\n",
       "      <td>0.787234</td>\n",
       "      <td>0.479651</td>\n",
       "      <td>0</td>\n",
       "      <td>0</td>\n",
       "      <td>0.351815</td>\n",
       "      <td>(0.3, 0.4]</td>\n",
       "    </tr>\n",
       "    <tr>\n",
       "      <th>229</th>\n",
       "      <td>Abreu, Bryan</td>\n",
       "      <td>1.0</td>\n",
       "      <td>0</td>\n",
       "      <td>0</td>\n",
       "      <td>0</td>\n",
       "      <td>0</td>\n",
       "      <td>1</td>\n",
       "      <td>0</td>\n",
       "      <td>0</td>\n",
       "      <td>0</td>\n",
       "      <td>0</td>\n",
       "      <td>0</td>\n",
       "      <td>0.653509</td>\n",
       "      <td>0.356592</td>\n",
       "      <td>0.770833</td>\n",
       "      <td>0.474138</td>\n",
       "      <td>0</td>\n",
       "      <td>0</td>\n",
       "      <td>0.349510</td>\n",
       "      <td>(0.3, 0.4]</td>\n",
       "    </tr>\n",
       "    <tr>\n",
       "      <th>230</th>\n",
       "      <td>Abreu, Bryan</td>\n",
       "      <td>1.0</td>\n",
       "      <td>0</td>\n",
       "      <td>0</td>\n",
       "      <td>0</td>\n",
       "      <td>0</td>\n",
       "      <td>0</td>\n",
       "      <td>0</td>\n",
       "      <td>0</td>\n",
       "      <td>0</td>\n",
       "      <td>0</td>\n",
       "      <td>0</td>\n",
       "      <td>0.650655</td>\n",
       "      <td>0.355983</td>\n",
       "      <td>0.829787</td>\n",
       "      <td>0.477723</td>\n",
       "      <td>0</td>\n",
       "      <td>0</td>\n",
       "      <td>0.418194</td>\n",
       "      <td>(0.4, 0.5]</td>\n",
       "    </tr>\n",
       "    <tr>\n",
       "      <th>231</th>\n",
       "      <td>Abreu, Bryan</td>\n",
       "      <td>1.0</td>\n",
       "      <td>0</td>\n",
       "      <td>0</td>\n",
       "      <td>0</td>\n",
       "      <td>0</td>\n",
       "      <td>0</td>\n",
       "      <td>0</td>\n",
       "      <td>0</td>\n",
       "      <td>0</td>\n",
       "      <td>0</td>\n",
       "      <td>0</td>\n",
       "      <td>0.652174</td>\n",
       "      <td>0.357082</td>\n",
       "      <td>0.821429</td>\n",
       "      <td>0.477941</td>\n",
       "      <td>0</td>\n",
       "      <td>1</td>\n",
       "      <td>0.417661</td>\n",
       "      <td>(0.4, 0.5]</td>\n",
       "    </tr>\n",
       "    <tr>\n",
       "      <th>...</th>\n",
       "      <td>...</td>\n",
       "      <td>...</td>\n",
       "      <td>...</td>\n",
       "      <td>...</td>\n",
       "      <td>...</td>\n",
       "      <td>...</td>\n",
       "      <td>...</td>\n",
       "      <td>...</td>\n",
       "      <td>...</td>\n",
       "      <td>...</td>\n",
       "      <td>...</td>\n",
       "      <td>...</td>\n",
       "      <td>...</td>\n",
       "      <td>...</td>\n",
       "      <td>...</td>\n",
       "      <td>...</td>\n",
       "      <td>...</td>\n",
       "      <td>...</td>\n",
       "      <td>...</td>\n",
       "      <td>...</td>\n",
       "    </tr>\n",
       "    <tr>\n",
       "      <th>27122</th>\n",
       "      <td>Wingenter, Trey</td>\n",
       "      <td>1.0</td>\n",
       "      <td>0</td>\n",
       "      <td>0</td>\n",
       "      <td>0</td>\n",
       "      <td>0</td>\n",
       "      <td>0</td>\n",
       "      <td>0</td>\n",
       "      <td>0</td>\n",
       "      <td>0</td>\n",
       "      <td>0</td>\n",
       "      <td>0</td>\n",
       "      <td>0.544304</td>\n",
       "      <td>0.538945</td>\n",
       "      <td>0.704225</td>\n",
       "      <td>0.606164</td>\n",
       "      <td>1</td>\n",
       "      <td>0</td>\n",
       "      <td>0.541235</td>\n",
       "      <td>(0.5, 0.6]</td>\n",
       "    </tr>\n",
       "    <tr>\n",
       "      <th>27123</th>\n",
       "      <td>Wingenter, Trey</td>\n",
       "      <td>1.0</td>\n",
       "      <td>0</td>\n",
       "      <td>0</td>\n",
       "      <td>0</td>\n",
       "      <td>1</td>\n",
       "      <td>0</td>\n",
       "      <td>0</td>\n",
       "      <td>0</td>\n",
       "      <td>0</td>\n",
       "      <td>0</td>\n",
       "      <td>0</td>\n",
       "      <td>0.542017</td>\n",
       "      <td>0.536250</td>\n",
       "      <td>0.694444</td>\n",
       "      <td>0.597973</td>\n",
       "      <td>1</td>\n",
       "      <td>0</td>\n",
       "      <td>0.589915</td>\n",
       "      <td>(0.5, 0.6]</td>\n",
       "    </tr>\n",
       "    <tr>\n",
       "      <th>27124</th>\n",
       "      <td>Wingenter, Trey</td>\n",
       "      <td>1.0</td>\n",
       "      <td>0</td>\n",
       "      <td>0</td>\n",
       "      <td>0</td>\n",
       "      <td>0</td>\n",
       "      <td>1</td>\n",
       "      <td>0</td>\n",
       "      <td>0</td>\n",
       "      <td>0</td>\n",
       "      <td>0</td>\n",
       "      <td>0</td>\n",
       "      <td>0.539749</td>\n",
       "      <td>0.533582</td>\n",
       "      <td>0.684932</td>\n",
       "      <td>0.590000</td>\n",
       "      <td>0</td>\n",
       "      <td>0</td>\n",
       "      <td>0.463464</td>\n",
       "      <td>(0.4, 0.5]</td>\n",
       "    </tr>\n",
       "    <tr>\n",
       "      <th>27125</th>\n",
       "      <td>Wingenter, Trey</td>\n",
       "      <td>1.0</td>\n",
       "      <td>0</td>\n",
       "      <td>0</td>\n",
       "      <td>0</td>\n",
       "      <td>0</td>\n",
       "      <td>0</td>\n",
       "      <td>1</td>\n",
       "      <td>0</td>\n",
       "      <td>0</td>\n",
       "      <td>0</td>\n",
       "      <td>0</td>\n",
       "      <td>0.541667</td>\n",
       "      <td>0.439320</td>\n",
       "      <td>0.689189</td>\n",
       "      <td>0.583333</td>\n",
       "      <td>0</td>\n",
       "      <td>1</td>\n",
       "      <td>0.304864</td>\n",
       "      <td>(0.3, 0.4]</td>\n",
       "    </tr>\n",
       "    <tr>\n",
       "      <th>27126</th>\n",
       "      <td>Wingenter, Trey</td>\n",
       "      <td>1.0</td>\n",
       "      <td>0</td>\n",
       "      <td>0</td>\n",
       "      <td>0</td>\n",
       "      <td>0</td>\n",
       "      <td>0</td>\n",
       "      <td>0</td>\n",
       "      <td>0</td>\n",
       "      <td>0</td>\n",
       "      <td>0</td>\n",
       "      <td>0</td>\n",
       "      <td>0.543568</td>\n",
       "      <td>0.535891</td>\n",
       "      <td>0.709924</td>\n",
       "      <td>0.594780</td>\n",
       "      <td>1</td>\n",
       "      <td>1</td>\n",
       "      <td>0.533114</td>\n",
       "      <td>(0.5, 0.6]</td>\n",
       "    </tr>\n",
       "  </tbody>\n",
       "</table>\n",
       "<p>28191 rows × 20 columns</p>\n",
       "</div>"
      ],
      "text/plain": [
       "               pitcher  const  Count_0_1  Count_0_2  Count_2_1  Count_1_0  \\\n",
       "227       Abreu, Bryan    1.0          0          0          0          0   \n",
       "228       Abreu, Bryan    1.0          1          0          0          0   \n",
       "229       Abreu, Bryan    1.0          0          0          0          0   \n",
       "230       Abreu, Bryan    1.0          0          0          0          0   \n",
       "231       Abreu, Bryan    1.0          0          0          0          0   \n",
       "...                ...    ...        ...        ...        ...        ...   \n",
       "27122  Wingenter, Trey    1.0          0          0          0          0   \n",
       "27123  Wingenter, Trey    1.0          0          0          0          1   \n",
       "27124  Wingenter, Trey    1.0          0          0          0          0   \n",
       "27125  Wingenter, Trey    1.0          0          0          0          0   \n",
       "27126  Wingenter, Trey    1.0          0          0          0          0   \n",
       "\n",
       "       Count_1_1  Count_1_2  Count_2_0  Count_2_2  Count_3_1  Count_3_0  \\\n",
       "227            0          0          0          0          0          0   \n",
       "228            0          0          0          0          0          0   \n",
       "229            1          0          0          0          0          0   \n",
       "230            0          0          0          0          0          0   \n",
       "231            0          0          0          0          0          0   \n",
       "...          ...        ...        ...        ...        ...        ...   \n",
       "27122          0          0          0          0          0          0   \n",
       "27123          0          0          0          0          0          0   \n",
       "27124          1          0          0          0          0          0   \n",
       "27125          0          1          0          0          0          0   \n",
       "27126          0          0          0          0          0          0   \n",
       "\n",
       "       pitcher_fb_rate_batter_count  pitcher_fb_rate_pitcher_count  \\\n",
       "227                        0.659292                       0.357818   \n",
       "228                        0.656388                       0.357204   \n",
       "229                        0.653509                       0.356592   \n",
       "230                        0.650655                       0.355983   \n",
       "231                        0.652174                       0.357082   \n",
       "...                             ...                            ...   \n",
       "27122                      0.544304                       0.538945   \n",
       "27123                      0.542017                       0.536250   \n",
       "27124                      0.539749                       0.533582   \n",
       "27125                      0.541667                       0.439320   \n",
       "27126                      0.543568                       0.535891   \n",
       "\n",
       "       batter_fb_rate_batter_count  batter_fb_rate_pitcher_count  pred_pitch  \\\n",
       "227                       0.804348                      0.485294           0   \n",
       "228                       0.787234                      0.479651           0   \n",
       "229                       0.770833                      0.474138           0   \n",
       "230                       0.829787                      0.477723           0   \n",
       "231                       0.821429                      0.477941           0   \n",
       "...                            ...                           ...         ...   \n",
       "27122                     0.704225                      0.606164           1   \n",
       "27123                     0.694444                      0.597973           1   \n",
       "27124                     0.684932                      0.590000           0   \n",
       "27125                     0.689189                      0.583333           0   \n",
       "27126                     0.709924                      0.594780           1   \n",
       "\n",
       "       pitch_type  pred_prob    prob_bin  \n",
       "227             0   0.421893  (0.4, 0.5]  \n",
       "228             0   0.351815  (0.3, 0.4]  \n",
       "229             0   0.349510  (0.3, 0.4]  \n",
       "230             0   0.418194  (0.4, 0.5]  \n",
       "231             1   0.417661  (0.4, 0.5]  \n",
       "...           ...        ...         ...  \n",
       "27122           0   0.541235  (0.5, 0.6]  \n",
       "27123           0   0.589915  (0.5, 0.6]  \n",
       "27124           0   0.463464  (0.4, 0.5]  \n",
       "27125           1   0.304864  (0.3, 0.4]  \n",
       "27126           1   0.533114  (0.5, 0.6]  \n",
       "\n",
       "[28191 rows x 20 columns]"
      ]
     },
     "execution_count": 21,
     "metadata": {},
     "output_type": "execute_result"
    }
   ],
   "source": [
    "result_df"
   ]
  },
  {
   "cell_type": "code",
   "execution_count": 22,
   "metadata": {},
   "outputs": [
    {
     "ename": "KeyError",
     "evalue": "'Column not found: correct'",
     "output_type": "error",
     "traceback": [
      "\u001b[1;31m---------------------------------------------------------------------------\u001b[0m",
      "\u001b[1;31mKeyError\u001b[0m                                  Traceback (most recent call last)",
      "Cell \u001b[1;32mIn[22], line 1\u001b[0m\n\u001b[1;32m----> 1\u001b[0m final_list \u001b[38;5;241m=\u001b[39m \u001b[43mresult_df\u001b[49m\u001b[38;5;241;43m.\u001b[39;49m\u001b[43mgroupby\u001b[49m\u001b[43m(\u001b[49m\u001b[38;5;124;43m'\u001b[39;49m\u001b[38;5;124;43mpitcher\u001b[39;49m\u001b[38;5;124;43m'\u001b[39;49m\u001b[43m)\u001b[49m\u001b[43m[\u001b[49m\u001b[38;5;124;43m'\u001b[39;49m\u001b[38;5;124;43mcorrect\u001b[39;49m\u001b[38;5;124;43m'\u001b[39;49m\u001b[43m]\u001b[49m\u001b[38;5;241m.\u001b[39magg([\u001b[38;5;124m'\u001b[39m\u001b[38;5;124mmean\u001b[39m\u001b[38;5;124m'\u001b[39m, \u001b[38;5;124m'\u001b[39m\u001b[38;5;124mcount\u001b[39m\u001b[38;5;124m'\u001b[39m])\u001b[38;5;241m.\u001b[39mreset_index()\n",
      "File \u001b[1;32mc:\\Users\\johng\\Documents\\GitHub\\mlb-pitchers\\venv\\Lib\\site-packages\\pandas\\core\\groupby\\generic.py:1951\u001b[0m, in \u001b[0;36mDataFrameGroupBy.__getitem__\u001b[1;34m(self, key)\u001b[0m\n\u001b[0;32m   1944\u001b[0m \u001b[38;5;28;01mif\u001b[39;00m \u001b[38;5;28misinstance\u001b[39m(key, \u001b[38;5;28mtuple\u001b[39m) \u001b[38;5;129;01mand\u001b[39;00m \u001b[38;5;28mlen\u001b[39m(key) \u001b[38;5;241m>\u001b[39m \u001b[38;5;241m1\u001b[39m:\n\u001b[0;32m   1945\u001b[0m     \u001b[38;5;66;03m# if len == 1, then it becomes a SeriesGroupBy and this is actually\u001b[39;00m\n\u001b[0;32m   1946\u001b[0m     \u001b[38;5;66;03m# valid syntax, so don't raise\u001b[39;00m\n\u001b[0;32m   1947\u001b[0m     \u001b[38;5;28;01mraise\u001b[39;00m \u001b[38;5;167;01mValueError\u001b[39;00m(\n\u001b[0;32m   1948\u001b[0m         \u001b[38;5;124m\"\u001b[39m\u001b[38;5;124mCannot subset columns with a tuple with more than one element. \u001b[39m\u001b[38;5;124m\"\u001b[39m\n\u001b[0;32m   1949\u001b[0m         \u001b[38;5;124m\"\u001b[39m\u001b[38;5;124mUse a list instead.\u001b[39m\u001b[38;5;124m\"\u001b[39m\n\u001b[0;32m   1950\u001b[0m     )\n\u001b[1;32m-> 1951\u001b[0m \u001b[38;5;28;01mreturn\u001b[39;00m \u001b[38;5;28;43msuper\u001b[39;49m\u001b[43m(\u001b[49m\u001b[43m)\u001b[49m\u001b[38;5;241;43m.\u001b[39;49m\u001b[38;5;21;43m__getitem__\u001b[39;49m\u001b[43m(\u001b[49m\u001b[43mkey\u001b[49m\u001b[43m)\u001b[49m\n",
      "File \u001b[1;32mc:\\Users\\johng\\Documents\\GitHub\\mlb-pitchers\\venv\\Lib\\site-packages\\pandas\\core\\base.py:244\u001b[0m, in \u001b[0;36mSelectionMixin.__getitem__\u001b[1;34m(self, key)\u001b[0m\n\u001b[0;32m    242\u001b[0m \u001b[38;5;28;01melse\u001b[39;00m:\n\u001b[0;32m    243\u001b[0m     \u001b[38;5;28;01mif\u001b[39;00m key \u001b[38;5;129;01mnot\u001b[39;00m \u001b[38;5;129;01min\u001b[39;00m \u001b[38;5;28mself\u001b[39m\u001b[38;5;241m.\u001b[39mobj:\n\u001b[1;32m--> 244\u001b[0m         \u001b[38;5;28;01mraise\u001b[39;00m \u001b[38;5;167;01mKeyError\u001b[39;00m(\u001b[38;5;124mf\u001b[39m\u001b[38;5;124m\"\u001b[39m\u001b[38;5;124mColumn not found: \u001b[39m\u001b[38;5;132;01m{\u001b[39;00mkey\u001b[38;5;132;01m}\u001b[39;00m\u001b[38;5;124m\"\u001b[39m)\n\u001b[0;32m    245\u001b[0m     ndim \u001b[38;5;241m=\u001b[39m \u001b[38;5;28mself\u001b[39m\u001b[38;5;241m.\u001b[39mobj[key]\u001b[38;5;241m.\u001b[39mndim\n\u001b[0;32m    246\u001b[0m     \u001b[38;5;28;01mreturn\u001b[39;00m \u001b[38;5;28mself\u001b[39m\u001b[38;5;241m.\u001b[39m_gotitem(key, ndim\u001b[38;5;241m=\u001b[39mndim)\n",
      "\u001b[1;31mKeyError\u001b[0m: 'Column not found: correct'"
     ]
    }
   ],
   "source": [
    "final_list = result_df.groupby('pitcher')['correct'].agg(['mean', 'count']).reset_index()"
   ]
  },
  {
   "cell_type": "code",
   "execution_count": 287,
   "metadata": {},
   "outputs": [],
   "source": [
    "final_list_sample = final_list.loc[final_list['count'] > 75]"
   ]
  },
  {
   "cell_type": "code",
   "execution_count": 288,
   "metadata": {},
   "outputs": [
    {
     "data": {
      "text/html": [
       "<div>\n",
       "<style scoped>\n",
       "    .dataframe tbody tr th:only-of-type {\n",
       "        vertical-align: middle;\n",
       "    }\n",
       "\n",
       "    .dataframe tbody tr th {\n",
       "        vertical-align: top;\n",
       "    }\n",
       "\n",
       "    .dataframe thead th {\n",
       "        text-align: right;\n",
       "    }\n",
       "</style>\n",
       "<table border=\"1\" class=\"dataframe\">\n",
       "  <thead>\n",
       "    <tr style=\"text-align: right;\">\n",
       "      <th></th>\n",
       "      <th>mean</th>\n",
       "    </tr>\n",
       "    <tr>\n",
       "      <th>pitcher</th>\n",
       "      <th></th>\n",
       "    </tr>\n",
       "  </thead>\n",
       "  <tbody>\n",
       "    <tr>\n",
       "      <th>Adcock, Ty</th>\n",
       "      <td>0.513514</td>\n",
       "    </tr>\n",
       "    <tr>\n",
       "      <th>Karinchak, James</th>\n",
       "      <td>0.525210</td>\n",
       "    </tr>\n",
       "    <tr>\n",
       "      <th>Romano, Jordan</th>\n",
       "      <td>0.525773</td>\n",
       "    </tr>\n",
       "    <tr>\n",
       "      <th>Herrin, Tim</th>\n",
       "      <td>0.536232</td>\n",
       "    </tr>\n",
       "    <tr>\n",
       "      <th>Munoz, Andres</th>\n",
       "      <td>0.537037</td>\n",
       "    </tr>\n",
       "    <tr>\n",
       "      <th>Rogers, Taylor</th>\n",
       "      <td>0.540000</td>\n",
       "    </tr>\n",
       "    <tr>\n",
       "      <th>Sims, Lucas</th>\n",
       "      <td>0.540958</td>\n",
       "    </tr>\n",
       "    <tr>\n",
       "      <th>Diaz, Alexis</th>\n",
       "      <td>0.547091</td>\n",
       "    </tr>\n",
       "    <tr>\n",
       "      <th>Faucher, Calvin</th>\n",
       "      <td>0.563380</td>\n",
       "    </tr>\n",
       "    <tr>\n",
       "      <th>Hernandez, Daysbel</th>\n",
       "      <td>0.566265</td>\n",
       "    </tr>\n",
       "  </tbody>\n",
       "</table>\n",
       "</div>"
      ],
      "text/plain": [
       "                        mean\n",
       "pitcher                     \n",
       "Adcock, Ty          0.513514\n",
       "Karinchak, James    0.525210\n",
       "Romano, Jordan      0.525773\n",
       "Herrin, Tim         0.536232\n",
       "Munoz, Andres       0.537037\n",
       "Rogers, Taylor      0.540000\n",
       "Sims, Lucas         0.540958\n",
       "Diaz, Alexis        0.547091\n",
       "Faucher, Calvin     0.563380\n",
       "Hernandez, Daysbel  0.566265"
      ]
     },
     "execution_count": 288,
     "metadata": {},
     "output_type": "execute_result"
    }
   ],
   "source": [
    "final_list_sample.set_index('pitcher')[['mean']].sort_values('mean').head(10)"
   ]
  },
  {
   "cell_type": "code",
   "execution_count": 289,
   "metadata": {},
   "outputs": [
    {
     "data": {
      "text/html": [
       "<div>\n",
       "<style scoped>\n",
       "    .dataframe tbody tr th:only-of-type {\n",
       "        vertical-align: middle;\n",
       "    }\n",
       "\n",
       "    .dataframe tbody tr th {\n",
       "        vertical-align: top;\n",
       "    }\n",
       "\n",
       "    .dataframe thead th {\n",
       "        text-align: right;\n",
       "    }\n",
       "</style>\n",
       "<table border=\"1\" class=\"dataframe\">\n",
       "  <thead>\n",
       "    <tr style=\"text-align: right;\">\n",
       "      <th></th>\n",
       "      <th>mean</th>\n",
       "    </tr>\n",
       "    <tr>\n",
       "      <th>pitcher</th>\n",
       "      <th></th>\n",
       "    </tr>\n",
       "  </thead>\n",
       "  <tbody>\n",
       "    <tr>\n",
       "      <th>Alvarado, Jose</th>\n",
       "      <td>0.997881</td>\n",
       "    </tr>\n",
       "    <tr>\n",
       "      <th>Hudson, Bryan</th>\n",
       "      <td>0.963415</td>\n",
       "    </tr>\n",
       "    <tr>\n",
       "      <th>Ferguson, Caleb</th>\n",
       "      <td>0.956800</td>\n",
       "    </tr>\n",
       "    <tr>\n",
       "      <th>Armstrong, Shawn</th>\n",
       "      <td>0.935574</td>\n",
       "    </tr>\n",
       "    <tr>\n",
       "      <th>Koch, Matt</th>\n",
       "      <td>0.916096</td>\n",
       "    </tr>\n",
       "    <tr>\n",
       "      <th>Adams, Austin</th>\n",
       "      <td>0.900826</td>\n",
       "    </tr>\n",
       "    <tr>\n",
       "      <th>Stratton, Hunter</th>\n",
       "      <td>0.879310</td>\n",
       "    </tr>\n",
       "    <tr>\n",
       "      <th>Jansen, Kenley</th>\n",
       "      <td>0.864458</td>\n",
       "    </tr>\n",
       "    <tr>\n",
       "      <th>Doyle, Tommy</th>\n",
       "      <td>0.860795</td>\n",
       "    </tr>\n",
       "    <tr>\n",
       "      <th>Graterol, Brusdar</th>\n",
       "      <td>0.806641</td>\n",
       "    </tr>\n",
       "  </tbody>\n",
       "</table>\n",
       "</div>"
      ],
      "text/plain": [
       "                       mean\n",
       "pitcher                    \n",
       "Alvarado, Jose     0.997881\n",
       "Hudson, Bryan      0.963415\n",
       "Ferguson, Caleb    0.956800\n",
       "Armstrong, Shawn   0.935574\n",
       "Koch, Matt         0.916096\n",
       "Adams, Austin      0.900826\n",
       "Stratton, Hunter   0.879310\n",
       "Jansen, Kenley     0.864458\n",
       "Doyle, Tommy       0.860795\n",
       "Graterol, Brusdar  0.806641"
      ]
     },
     "execution_count": 289,
     "metadata": {},
     "output_type": "execute_result"
    }
   ],
   "source": [
    "final_list_sample.set_index('pitcher')[['mean']].sort_values('mean', ascending=False).head(10)"
   ]
  }
 ],
 "metadata": {
  "kernelspec": {
   "display_name": "venv",
   "language": "python",
   "name": "python3"
  },
  "language_info": {
   "codemirror_mode": {
    "name": "ipython",
    "version": 3
   },
   "file_extension": ".py",
   "mimetype": "text/x-python",
   "name": "python",
   "nbconvert_exporter": "python",
   "pygments_lexer": "ipython3",
   "version": "3.12.2"
  }
 },
 "nbformat": 4,
 "nbformat_minor": 2
}
